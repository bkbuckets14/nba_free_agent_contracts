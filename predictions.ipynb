{
 "cells": [
  {
   "cell_type": "code",
   "execution_count": 1,
   "id": "33391118",
   "metadata": {},
   "outputs": [],
   "source": [
    "import numpy as np\n",
    "import matplotlib.pyplot as plt\n",
    "import seaborn as sns\n",
    "import pandas as pd\n",
    "\n",
    "import sqlite3\n",
    "from bk_modeling import *\n",
    "import scipy.stats as stats\n",
    "import sklearn.linear_model as linear\n",
    "\n",
    "pd.options.display.float_format = '{:,.2f}'.format\n",
    "sns.set(style=\"whitegrid\")"
   ]
  },
  {
   "cell_type": "markdown",
   "id": "c2b5dbaf",
   "metadata": {},
   "source": [
    "## Predictions\n",
    "\n",
    "Now that the model is built, the front office is able to bring us players that they want salary esitmates for. As the list of free agents for 2022 is [already available](https://www.spotrac.com/nba/free-agents/), the team has given us the following players to look into:\n",
    "\n",
    "**Montrez Harrell**\n",
    "\n",
    "**Dennis Schroder**\n",
    "\n",
    "**Pat Connaughton**\n",
    "\n",
    "### Loading Up Model\n",
    "\n",
    "Before beginning, I will load up the data from the data base and get the necessary features for the model."
   ]
  },
  {
   "cell_type": "code",
   "execution_count": 2,
   "id": "f51877be",
   "metadata": {},
   "outputs": [],
   "source": [
    "con = sqlite3.connect('data.db')"
   ]
  },
  {
   "cell_type": "code",
   "execution_count": 3,
   "id": "623b38e6",
   "metadata": {},
   "outputs": [],
   "source": [
    "query = \"\"\"\n",
    "SELECT \n",
    "    p.name, c.year, p.position, p.height, p.weight,\n",
    "    c.age, c.year-p.rookie_year,\n",
    "    s.games, s.minutes, s.pts, s.trb, s.ast, s.stl, s.blk, s.tov, s.fg, s.fg_per, s.three_fg, s.three_fg_per,\n",
    "    s.efg_per, s.ft_per, \n",
    "    c.type, c.chg_team, c.length, c.avg_dollars\n",
    "FROM contracts c\n",
    "JOIN players p\n",
    "    ON c.id=p.id\n",
    "JOIN stats s\n",
    "    ON c.id=s.id AND c.year=s.year\n",
    "\"\"\"\n",
    "\n",
    "contracts = pd.DataFrame(con.execute(query),\n",
    "                         columns=['player', 'year', 'position', 'height', 'weight',\n",
    "                                  'age', 'years_exp',\n",
    "                                  'games', 'min', 'pts', 'rbs', 'ast', 'stl', 'blk', 'tov', 'fg', 'fg_per',\n",
    "                                  'three_fg', 'three_per', 'efg_per', 'ft_per',\n",
    "                                  'type', 'chg_team', 'length', 'avg_dollars'])"
   ]
  },
  {
   "cell_type": "markdown",
   "id": "d9d95a34",
   "metadata": {},
   "source": [
    "First, I will get the dummy variables for `type`."
   ]
  },
  {
   "cell_type": "code",
   "execution_count": 4,
   "id": "e41fda84",
   "metadata": {},
   "outputs": [],
   "source": [
    "contracts = pd.concat([contracts, pd.get_dummies(contracts['type'])], axis=1) "
   ]
  },
  {
   "cell_type": "markdown",
   "id": "5e36723d",
   "metadata": {},
   "source": [
    "Next, I will get the squared variables."
   ]
  },
  {
   "cell_type": "code",
   "execution_count": 5,
   "id": "bccea5cf",
   "metadata": {},
   "outputs": [],
   "source": [
    "contracts['pts_sq'] = contracts['pts']**2\n",
    "contracts['min_sq'] = contracts['min']**2\n",
    "contracts['rbs_sq'] = contracts['rbs']**2\n",
    "contracts['ast_sq'] = contracts['ast']**2\n",
    "contracts['stl_sq'] = contracts['stl']**2\n",
    "contracts['blk_sq'] = contracts['blk']**2\n",
    "contracts['tov_sq'] = contracts['tov']**2\n",
    "contracts['three_fg_sq'] = contracts['three_fg']**2"
   ]
  },
  {
   "cell_type": "markdown",
   "id": "83bc07c3",
   "metadata": {},
   "source": [
    "Next, I will get divide the players into short, medium, and tall groups and compute the necessary interaction terms."
   ]
  },
  {
   "cell_type": "code",
   "execution_count": 6,
   "id": "333365cd",
   "metadata": {},
   "outputs": [],
   "source": [
    "contracts['short'] = [1 if x<=76 else 0 for x in contracts['height']]\n",
    "contracts['tall'] = [1 if x>=82 else 0 for x in contracts['height']]\n",
    "contracts['medium'] = [1 if x[0]+x[1] != 1 else 0 for x in zip(contracts['short'], contracts['tall'])]"
   ]
  },
  {
   "cell_type": "code",
   "execution_count": 7,
   "id": "65b0c20d",
   "metadata": {},
   "outputs": [],
   "source": [
    "contracts['short:pts'] = contracts['short'] * contracts['pts']\n",
    "contracts['short:rbs'] = contracts['short'] * contracts['rbs']\n",
    "contracts['short:blk'] = contracts['short'] * contracts['blk']\n",
    "contracts['short:efg_per'] = contracts['short'] * contracts['efg_per']\n",
    "contracts['short:ast'] = contracts['short'] * contracts['ast']\n",
    "contracts['short:stl'] = contracts['short'] * contracts['stl']\n",
    "contracts['short:three_fg'] = contracts['short'] * contracts['three_fg']\n",
    "\n",
    "contracts['tall:pts'] = contracts['tall'] * contracts['pts']\n",
    "contracts['tall:rbs'] = contracts['tall'] * contracts['rbs']\n",
    "contracts['tall:blk'] = contracts['tall'] * contracts['blk']\n",
    "contracts['tall:efg_per'] = contracts['tall'] * contracts['efg_per']\n",
    "contracts['tall:ast'] = contracts['tall'] * contracts['ast']\n",
    "contracts['tall:stl'] = contracts['tall'] * contracts['stl']\n",
    "contracts['tall:three_fg'] = contracts['tall'] * contracts['three_fg']"
   ]
  },
  {
   "cell_type": "markdown",
   "id": "8448a7b3",
   "metadata": {},
   "source": [
    "And lastly, creating binary variables about the length of the contract."
   ]
  },
  {
   "cell_type": "code",
   "execution_count": 8,
   "id": "dc518ae4",
   "metadata": {},
   "outputs": [],
   "source": [
    "contracts['one_yr'] = [1 if x==1 else 0 for x in contracts['length']]\n",
    "contracts['four_five_yr'] = [1 if x>=4 else 0 for x in contracts['length']]\n",
    "contracts['two_three_yr'] = [1 if x[0]+x[1] != 1 else 0 for x in zip(contracts['one_yr'], contracts['four_five_yr'])]"
   ]
  },
  {
   "cell_type": "code",
   "execution_count": 9,
   "id": "0c9c5b56",
   "metadata": {},
   "outputs": [],
   "source": [
    "y = 'avg_dollars'\n",
    "X = ['height', 'age', 'min_sq', 'pts_sq',\n",
    "     'rbs_sq', 'ast_sq', 'stl_sq', 'blk_sq', 'tov_sq', 'three_fg_sq',\n",
    "     'RFA', 'chg_team', 'two_three_yr', 'four_five_yr', 'length',\n",
    "     'short:pts', 'short:rbs', 'short:blk', 'short:efg_per',\n",
    "     'short:ast', 'short:stl', 'short:three_fg',\n",
    "     'tall:pts', 'tall:rbs', 'tall:blk', 'tall:efg_per',\n",
    "     'tall:ast', 'tall:stl', 'tall:three_fg']"
   ]
  },
  {
   "cell_type": "markdown",
   "id": "abb37084",
   "metadata": {},
   "source": [
    "And now I will fit the data to the model and get a result."
   ]
  },
  {
   "cell_type": "code",
   "execution_count": 10,
   "id": "e4deeb48",
   "metadata": {},
   "outputs": [],
   "source": [
    "result = bootstrap_linear_reg(contracts, X, y)"
   ]
  },
  {
   "cell_type": "markdown",
   "id": "c1ed9770",
   "metadata": {},
   "source": [
    "### Montrez Harrell\n",
    "\n",
    "Montrez Harrell is an interesting player currently playing for the Washington Wizards. Montrez Harrell won the 6th Man of the Year award in 2020, but had a really poor showing in the 2020 playoffs, with many media members critizing his defensive ability. After an up and down 2021 season, Montrez Harrell was traded to the Washington Wizards. Set to enter free agency in 2022, Montrez Harrell currently has the following stats for this season [(via BasketballReference)](https://www.basketball-reference.com/players/h/harremo01.html)\n",
    "\n",
    "Min: 26.1\n",
    "<br>Pts: 14.9\n",
    "<br>Rbs: 7.9\n",
    "<br>Ast: 2.1\n",
    "<br>Stl: 0.6\n",
    "<br>Blk: 0.7\n",
    "<br>Tov: 1.3\n",
    "<br>Three_FG: 0.1\n",
    "<br>eFG_per: 0.647\n",
    "\n",
    "Harrell is 6'7 (79 inches) and will be 28.5 when free agency happens next summer. He will be an Unrestricted Free Agent and is said to be looking for a 3 year contract.\n",
    "\n",
    "I will start by creating a new DataFrame `free_agents` and adding Harrell to it. "
   ]
  },
  {
   "cell_type": "code",
   "execution_count": 11,
   "id": "a557444b",
   "metadata": {},
   "outputs": [],
   "source": [
    "free_agents = pd.DataFrame(data={}, columns=['name', 'height', 'age', 'min', 'pts', 'rbs', 'ast', 'stl',\n",
    "                                             'blk', 'tov', 'three_fg', 'efg_per'])"
   ]
  },
  {
   "cell_type": "code",
   "execution_count": 12,
   "id": "2a351be1",
   "metadata": {},
   "outputs": [],
   "source": [
    "free_agents.loc[0] = ['Montrez Harrell', 79, 28.5, 26.1, 14.9, 7.9, 2.1, 0.6, 0.7, 1.3, 0.1, 0.647]"
   ]
  },
  {
   "cell_type": "code",
   "execution_count": 13,
   "id": "428499f3",
   "metadata": {},
   "outputs": [
    {
     "data": {
      "text/html": [
       "<div>\n",
       "<style scoped>\n",
       "    .dataframe tbody tr th:only-of-type {\n",
       "        vertical-align: middle;\n",
       "    }\n",
       "\n",
       "    .dataframe tbody tr th {\n",
       "        vertical-align: top;\n",
       "    }\n",
       "\n",
       "    .dataframe thead th {\n",
       "        text-align: right;\n",
       "    }\n",
       "</style>\n",
       "<table border=\"1\" class=\"dataframe\">\n",
       "  <thead>\n",
       "    <tr style=\"text-align: right;\">\n",
       "      <th></th>\n",
       "      <th>name</th>\n",
       "      <th>height</th>\n",
       "      <th>age</th>\n",
       "      <th>min</th>\n",
       "      <th>pts</th>\n",
       "      <th>rbs</th>\n",
       "      <th>ast</th>\n",
       "      <th>stl</th>\n",
       "      <th>blk</th>\n",
       "      <th>tov</th>\n",
       "      <th>three_fg</th>\n",
       "      <th>efg_per</th>\n",
       "    </tr>\n",
       "  </thead>\n",
       "  <tbody>\n",
       "    <tr>\n",
       "      <th>0</th>\n",
       "      <td>Montrez Harrell</td>\n",
       "      <td>79</td>\n",
       "      <td>28.50</td>\n",
       "      <td>26.10</td>\n",
       "      <td>14.90</td>\n",
       "      <td>7.90</td>\n",
       "      <td>2.10</td>\n",
       "      <td>0.60</td>\n",
       "      <td>0.70</td>\n",
       "      <td>1.30</td>\n",
       "      <td>0.10</td>\n",
       "      <td>0.65</td>\n",
       "    </tr>\n",
       "  </tbody>\n",
       "</table>\n",
       "</div>"
      ],
      "text/plain": [
       "              name height   age   min   pts  rbs  ast  stl  blk  tov  \\\n",
       "0  Montrez Harrell     79 28.50 26.10 14.90 7.90 2.10 0.60 0.70 1.30   \n",
       "\n",
       "   three_fg  efg_per  \n",
       "0      0.10     0.65  "
      ]
     },
     "execution_count": 13,
     "metadata": {},
     "output_type": "execute_result"
    }
   ],
   "source": [
    "free_agents.head()"
   ]
  },
  {
   "cell_type": "markdown",
   "id": "52ceecdb",
   "metadata": {},
   "source": [
    "Now, I will create the necessary features for the model. First I will get the squared features"
   ]
  },
  {
   "cell_type": "code",
   "execution_count": 14,
   "id": "ac4cd33b",
   "metadata": {},
   "outputs": [],
   "source": [
    "free_agents['pts_sq'] = free_agents['pts']**2\n",
    "free_agents['min_sq'] = free_agents['min']**2\n",
    "free_agents['rbs_sq'] = free_agents['rbs']**2\n",
    "free_agents['ast_sq'] = free_agents['ast']**2\n",
    "free_agents['stl_sq'] = free_agents['stl']**2\n",
    "free_agents['blk_sq'] = free_agents['blk']**2\n",
    "free_agents['tov_sq'] = free_agents['tov']**2\n",
    "free_agents['three_fg_sq'] = free_agents['three_fg']**2"
   ]
  },
  {
   "cell_type": "markdown",
   "id": "e309d3a8",
   "metadata": {},
   "source": [
    "Next, I will decide which height group the player falls into and compute the various interaction terms."
   ]
  },
  {
   "cell_type": "code",
   "execution_count": 15,
   "id": "b8534b9c",
   "metadata": {},
   "outputs": [],
   "source": [
    "free_agents['short'] = [1 if x<=76 else 0 for x in free_agents['height']]\n",
    "free_agents['tall'] = [1 if x>=82 else 0 for x in free_agents['height']]\n",
    "free_agents['medium'] = [1 if x[0]+x[1] != 1 else 0 for x in zip(free_agents['short'], free_agents['tall'])]"
   ]
  },
  {
   "cell_type": "code",
   "execution_count": 16,
   "id": "f3cddf41",
   "metadata": {},
   "outputs": [],
   "source": [
    "free_agents['short:pts'] = free_agents['short'] * free_agents['pts']\n",
    "free_agents['short:rbs'] = free_agents['short'] * free_agents['rbs']\n",
    "free_agents['short:blk'] = free_agents['short'] * free_agents['blk']\n",
    "free_agents['short:efg_per'] = free_agents['short'] * free_agents['efg_per']\n",
    "free_agents['short:ast'] = free_agents['short'] * free_agents['ast']\n",
    "free_agents['short:stl'] = free_agents['short'] * free_agents['stl']\n",
    "free_agents['short:three_fg'] = free_agents['short'] * free_agents['three_fg']\n",
    "\n",
    "free_agents['tall:pts'] = free_agents['tall'] * free_agents['pts']\n",
    "free_agents['tall:rbs'] = free_agents['tall'] * free_agents['rbs']\n",
    "free_agents['tall:blk'] = free_agents['tall'] * free_agents['blk']\n",
    "free_agents['tall:efg_per'] = free_agents['tall'] * free_agents['efg_per']\n",
    "free_agents['tall:ast'] = free_agents['tall'] * free_agents['ast']\n",
    "free_agents['tall:stl'] = free_agents['tall'] * free_agents['stl']\n",
    "free_agents['tall:three_fg'] = free_agents['tall'] * free_agents['three_fg']"
   ]
  },
  {
   "cell_type": "markdown",
   "id": "6a62460e",
   "metadata": {},
   "source": [
    "Next, I will set `RFA` and `chg_team`."
   ]
  },
  {
   "cell_type": "code",
   "execution_count": 17,
   "id": "3583e506",
   "metadata": {},
   "outputs": [],
   "source": [
    "free_agents['RFA'] = 0\n",
    "free_agents['chg_team'] = 1"
   ]
  },
  {
   "cell_type": "markdown",
   "id": "9d6b7002",
   "metadata": {},
   "source": [
    "Lastly, I will define the length and length binary features for Montrez."
   ]
  },
  {
   "cell_type": "code",
   "execution_count": 18,
   "id": "5997f7f9",
   "metadata": {},
   "outputs": [],
   "source": [
    "free_agents['length'] = 3\n",
    "free_agents['two_three_yr'] = 1\n",
    "free_agents['four_five_yr'] = 0"
   ]
  },
  {
   "cell_type": "code",
   "execution_count": 19,
   "id": "5e13208f",
   "metadata": {},
   "outputs": [
    {
     "data": {
      "text/html": [
       "<div>\n",
       "<style scoped>\n",
       "    .dataframe tbody tr th:only-of-type {\n",
       "        vertical-align: middle;\n",
       "    }\n",
       "\n",
       "    .dataframe tbody tr th {\n",
       "        vertical-align: top;\n",
       "    }\n",
       "\n",
       "    .dataframe thead th {\n",
       "        text-align: right;\n",
       "    }\n",
       "</style>\n",
       "<table border=\"1\" class=\"dataframe\">\n",
       "  <thead>\n",
       "    <tr style=\"text-align: right;\">\n",
       "      <th></th>\n",
       "      <th>name</th>\n",
       "      <th>height</th>\n",
       "      <th>age</th>\n",
       "      <th>min</th>\n",
       "      <th>pts</th>\n",
       "      <th>rbs</th>\n",
       "      <th>ast</th>\n",
       "      <th>stl</th>\n",
       "      <th>blk</th>\n",
       "      <th>tov</th>\n",
       "      <th>...</th>\n",
       "      <th>tall:blk</th>\n",
       "      <th>tall:efg_per</th>\n",
       "      <th>tall:ast</th>\n",
       "      <th>tall:stl</th>\n",
       "      <th>tall:three_fg</th>\n",
       "      <th>RFA</th>\n",
       "      <th>chg_team</th>\n",
       "      <th>length</th>\n",
       "      <th>two_three_yr</th>\n",
       "      <th>four_five_yr</th>\n",
       "    </tr>\n",
       "  </thead>\n",
       "  <tbody>\n",
       "    <tr>\n",
       "      <th>0</th>\n",
       "      <td>Montrez Harrell</td>\n",
       "      <td>79</td>\n",
       "      <td>28.50</td>\n",
       "      <td>26.10</td>\n",
       "      <td>14.90</td>\n",
       "      <td>7.90</td>\n",
       "      <td>2.10</td>\n",
       "      <td>0.60</td>\n",
       "      <td>0.70</td>\n",
       "      <td>1.30</td>\n",
       "      <td>...</td>\n",
       "      <td>0.00</td>\n",
       "      <td>0.00</td>\n",
       "      <td>0.00</td>\n",
       "      <td>0.00</td>\n",
       "      <td>0.00</td>\n",
       "      <td>0</td>\n",
       "      <td>1</td>\n",
       "      <td>3</td>\n",
       "      <td>1</td>\n",
       "      <td>0</td>\n",
       "    </tr>\n",
       "  </tbody>\n",
       "</table>\n",
       "<p>1 rows × 42 columns</p>\n",
       "</div>"
      ],
      "text/plain": [
       "              name height   age   min   pts  rbs  ast  stl  blk  tov  ...  \\\n",
       "0  Montrez Harrell     79 28.50 26.10 14.90 7.90 2.10 0.60 0.70 1.30  ...   \n",
       "\n",
       "   tall:blk  tall:efg_per  tall:ast  tall:stl  tall:three_fg  RFA  chg_team  \\\n",
       "0      0.00          0.00      0.00      0.00           0.00    0         1   \n",
       "\n",
       "   length  two_three_yr  four_five_yr  \n",
       "0       3             1             0  \n",
       "\n",
       "[1 rows x 42 columns]"
      ]
     },
     "execution_count": 19,
     "metadata": {},
     "output_type": "execute_result"
    }
   ],
   "source": [
    "free_agents.head()"
   ]
  },
  {
   "cell_type": "markdown",
   "id": "676a7a7f",
   "metadata": {},
   "source": [
    "Now, that Harrell's feature values have been calculated, I will predict his upcoming salary using the model."
   ]
  },
  {
   "cell_type": "code",
   "execution_count": 20,
   "id": "f63426bb",
   "metadata": {},
   "outputs": [],
   "source": [
    "m_harrell = [x for x in free_agents.loc[0][X].values]"
   ]
  },
  {
   "cell_type": "code",
   "execution_count": 21,
   "id": "7e8d6295",
   "metadata": {
    "scrolled": true
   },
   "outputs": [
    {
     "data": {
      "text/plain": [
       "[array([15117095.02955979])]"
      ]
     },
     "execution_count": 21,
     "metadata": {},
     "output_type": "execute_result"
    }
   ],
   "source": [
    "predict(result, [m_harrell])"
   ]
  },
  {
   "cell_type": "markdown",
   "id": "61ef3507",
   "metadata": {},
   "source": [
    "The model predicts that Harrell will make just over 15 million dollars next season. This is an upgrade over the 9.7 million he is making this year. So far this season, Harrell is having a very good year, which explains the increase in pay from his last contract.\n",
    "\n",
    "### Dennis Schroder\n",
    "\n",
    "Dennis Schroder finished second in 6th Man of the Year voting to Montrez Harrell in 2020, but was traded to the Los Angeles Lakers in the offseason. In an now famous story, Schroder turned down a contract extension with the Lakers reportedly worth 21 million dollars annually over 4 years in hopes of earning more in free agency. However, the big offer never came and Schroder was forced to sign a 5.9 million dollar offer with the Boston Celtics. The reason Schroder chose the Celtics is that he thought the playing time and role the Celtics were offering him would allow him to rebuild his value to reenter free agency in 2022. So far in the season, here are Schroder's stats:\n",
    "\n",
    "Min: 33.4\n",
    "<br>Pts: 17.5\n",
    "<br>Rbs: 3.6\n",
    "<br>Ast: 4.9\n",
    "<br>Stl: 0.9\n",
    "<br>Blk: 0.0\n",
    "<br>Tov: 2.6\n",
    "<br>Three_FG: 1.6\n",
    "<br>eFG_per: 0.500\n",
    "\n",
    "Harrell is 6'3 (75 inches) and will be 28.8 when free agency happens next summer. He will be an Unrestricted Free Agent and is said to be looking for a 4 year contract.\n",
    "\n",
    "I will start by adding Schroder to the `free_agents` DataFrame. "
   ]
  },
  {
   "cell_type": "code",
   "execution_count": 22,
   "id": "a7ad137f",
   "metadata": {},
   "outputs": [],
   "source": [
    "free_agents.loc[1] = ['Dennis Schoder', 75, 28.8, 33.4, 17.5, 3.6, 4.9, 0.9, 0.0, 2.6, 1.6, 0.5] + 30*[0]"
   ]
  },
  {
   "cell_type": "code",
   "execution_count": 23,
   "id": "3358bc27",
   "metadata": {},
   "outputs": [
    {
     "data": {
      "text/html": [
       "<div>\n",
       "<style scoped>\n",
       "    .dataframe tbody tr th:only-of-type {\n",
       "        vertical-align: middle;\n",
       "    }\n",
       "\n",
       "    .dataframe tbody tr th {\n",
       "        vertical-align: top;\n",
       "    }\n",
       "\n",
       "    .dataframe thead th {\n",
       "        text-align: right;\n",
       "    }\n",
       "</style>\n",
       "<table border=\"1\" class=\"dataframe\">\n",
       "  <thead>\n",
       "    <tr style=\"text-align: right;\">\n",
       "      <th></th>\n",
       "      <th>name</th>\n",
       "      <th>height</th>\n",
       "      <th>age</th>\n",
       "      <th>min</th>\n",
       "      <th>pts</th>\n",
       "      <th>rbs</th>\n",
       "      <th>ast</th>\n",
       "      <th>stl</th>\n",
       "      <th>blk</th>\n",
       "      <th>tov</th>\n",
       "      <th>...</th>\n",
       "      <th>tall:blk</th>\n",
       "      <th>tall:efg_per</th>\n",
       "      <th>tall:ast</th>\n",
       "      <th>tall:stl</th>\n",
       "      <th>tall:three_fg</th>\n",
       "      <th>RFA</th>\n",
       "      <th>chg_team</th>\n",
       "      <th>length</th>\n",
       "      <th>two_three_yr</th>\n",
       "      <th>four_five_yr</th>\n",
       "    </tr>\n",
       "  </thead>\n",
       "  <tbody>\n",
       "    <tr>\n",
       "      <th>0</th>\n",
       "      <td>Montrez Harrell</td>\n",
       "      <td>79</td>\n",
       "      <td>28.50</td>\n",
       "      <td>26.10</td>\n",
       "      <td>14.90</td>\n",
       "      <td>7.90</td>\n",
       "      <td>2.10</td>\n",
       "      <td>0.60</td>\n",
       "      <td>0.70</td>\n",
       "      <td>1.30</td>\n",
       "      <td>...</td>\n",
       "      <td>0.00</td>\n",
       "      <td>0.00</td>\n",
       "      <td>0.00</td>\n",
       "      <td>0.00</td>\n",
       "      <td>0.00</td>\n",
       "      <td>0</td>\n",
       "      <td>1</td>\n",
       "      <td>3</td>\n",
       "      <td>1</td>\n",
       "      <td>0</td>\n",
       "    </tr>\n",
       "    <tr>\n",
       "      <th>1</th>\n",
       "      <td>Dennis Schoder</td>\n",
       "      <td>75</td>\n",
       "      <td>28.80</td>\n",
       "      <td>33.40</td>\n",
       "      <td>17.50</td>\n",
       "      <td>3.60</td>\n",
       "      <td>4.90</td>\n",
       "      <td>0.90</td>\n",
       "      <td>0.00</td>\n",
       "      <td>2.60</td>\n",
       "      <td>...</td>\n",
       "      <td>0.00</td>\n",
       "      <td>0.00</td>\n",
       "      <td>0.00</td>\n",
       "      <td>0.00</td>\n",
       "      <td>0.00</td>\n",
       "      <td>0</td>\n",
       "      <td>0</td>\n",
       "      <td>0</td>\n",
       "      <td>0</td>\n",
       "      <td>0</td>\n",
       "    </tr>\n",
       "  </tbody>\n",
       "</table>\n",
       "<p>2 rows × 42 columns</p>\n",
       "</div>"
      ],
      "text/plain": [
       "              name height   age   min   pts  rbs  ast  stl  blk  tov  ...  \\\n",
       "0  Montrez Harrell     79 28.50 26.10 14.90 7.90 2.10 0.60 0.70 1.30  ...   \n",
       "1   Dennis Schoder     75 28.80 33.40 17.50 3.60 4.90 0.90 0.00 2.60  ...   \n",
       "\n",
       "   tall:blk  tall:efg_per  tall:ast  tall:stl  tall:three_fg  RFA  chg_team  \\\n",
       "0      0.00          0.00      0.00      0.00           0.00    0         1   \n",
       "1      0.00          0.00      0.00      0.00           0.00    0         0   \n",
       "\n",
       "   length  two_three_yr  four_five_yr  \n",
       "0       3             1             0  \n",
       "1       0             0             0  \n",
       "\n",
       "[2 rows x 42 columns]"
      ]
     },
     "execution_count": 23,
     "metadata": {},
     "output_type": "execute_result"
    }
   ],
   "source": [
    "free_agents.head()"
   ]
  },
  {
   "cell_type": "markdown",
   "id": "e5ac6e87",
   "metadata": {},
   "source": [
    "Now, I will create the necessary features for Schroder. First I will get the squared features."
   ]
  },
  {
   "cell_type": "code",
   "execution_count": 24,
   "id": "bbd7bb5b",
   "metadata": {},
   "outputs": [],
   "source": [
    "free_agents.at[1,'pts_sq'] = free_agents.at[1,'pts']**2\n",
    "free_agents.at[1,'min_sq'] = free_agents.at[1,'min']**2\n",
    "free_agents.at[1,'rbs_sq'] = free_agents.at[1,'rbs']**2\n",
    "free_agents.at[1,'ast_sq'] = free_agents.at[1,'ast']**2\n",
    "free_agents.at[1,'stl_sq'] = free_agents.at[1,'stl']**2\n",
    "free_agents.at[1,'blk_sq'] = free_agents.at[1,'blk']**2\n",
    "free_agents.at[1,'tov_sq'] = free_agents.at[1,'tov']**2\n",
    "free_agents.at[1,'three_fg_sq'] = free_agents.at[1,'three_fg']**2"
   ]
  },
  {
   "cell_type": "markdown",
   "id": "42ffc8cd",
   "metadata": {},
   "source": [
    "Next, I will decide which height group Schroder falls into and compute the various interaction terms."
   ]
  },
  {
   "cell_type": "code",
   "execution_count": 25,
   "id": "8a76b820",
   "metadata": {},
   "outputs": [],
   "source": [
    "if free_agents.at[1,'height']<=76:\n",
    "    free_agents.at[1,'short']=1\n",
    "    free_agents.at[1,'medium']=0\n",
    "    free_agents.at[1,'tall']=0\n",
    "elif free_agents.at[1,'height']<=81:\n",
    "    free_agents.at[1,'short']=0\n",
    "    free_agents.at[1,'medium']=1\n",
    "    free_agents.at[1,'tall']=0\n",
    "else:\n",
    "    free_agents.at[1,'short']=0\n",
    "    free_agents.at[1,'medium']=0\n",
    "    free_agents.at[1,'tall']=1"
   ]
  },
  {
   "cell_type": "code",
   "execution_count": 26,
   "id": "620c2377",
   "metadata": {},
   "outputs": [],
   "source": [
    "free_agents.at[1,'short:pts'] = free_agents.at[1,'short'] * free_agents.at[1,'pts']\n",
    "free_agents.at[1,'short:rbs'] = free_agents.at[1,'short'] * free_agents.at[1,'rbs']\n",
    "free_agents.at[1,'short:blk'] = free_agents.at[1,'short'] * free_agents.at[1,'blk']\n",
    "free_agents.at[1,'short:efg_per'] = free_agents.at[1,'short'] * free_agents.at[1,'efg_per']\n",
    "free_agents.at[1,'short:ast'] = free_agents.at[1,'short'] * free_agents.at[1,'ast']\n",
    "free_agents.at[1,'short:stl'] = free_agents.at[1,'short'] * free_agents.at[1,'stl']\n",
    "free_agents.at[1,'short:three_fg'] = free_agents.at[1,'short'] * free_agents.at[1,'three_fg']\n",
    "\n",
    "free_agents.at[1,'tall:pts'] = free_agents.at[1,'tall'] * free_agents.at[1,'pts']\n",
    "free_agents.at[1,'tall:rbs'] = free_agents.at[1,'tall'] * free_agents.at[1,'rbs']\n",
    "free_agents.at[1,'tall:blk'] = free_agents.at[1,'tall'] * free_agents.at[1,'blk']\n",
    "free_agents.at[1,'tall:efg_per'] = free_agents.at[1,'tall'] * free_agents.at[1,'efg_per']\n",
    "free_agents.at[1,'tall:ast'] = free_agents.at[1,'tall'] * free_agents.at[1,'ast']\n",
    "free_agents.at[1,'tall:stl'] = free_agents.at[1,'tall'] * free_agents.at[1,'stl']\n",
    "free_agents.at[1,'tall:three_fg'] = free_agents.at[1,'tall'] * free_agents.at[1,'three_fg']"
   ]
  },
  {
   "cell_type": "markdown",
   "id": "203966e0",
   "metadata": {},
   "source": [
    "Next, I will set `RFA` and `chg_team`."
   ]
  },
  {
   "cell_type": "code",
   "execution_count": 27,
   "id": "9d4025c1",
   "metadata": {},
   "outputs": [],
   "source": [
    "free_agents.at[1,'RFA'] = 0\n",
    "free_agents.at[1,'chg_team'] = 1"
   ]
  },
  {
   "cell_type": "markdown",
   "id": "0db7f8ff",
   "metadata": {},
   "source": [
    "Lastly, I will define the length and length binary features for Dennis."
   ]
  },
  {
   "cell_type": "code",
   "execution_count": 28,
   "id": "6b0349d0",
   "metadata": {},
   "outputs": [],
   "source": [
    "free_agents.at[1,'length'] = 4\n",
    "free_agents.at[1,'two_three_yr'] = 0\n",
    "free_agents.at[1,'four_five_yr'] = 1"
   ]
  },
  {
   "cell_type": "code",
   "execution_count": 29,
   "id": "3a3449cf",
   "metadata": {},
   "outputs": [
    {
     "data": {
      "text/html": [
       "<div>\n",
       "<style scoped>\n",
       "    .dataframe tbody tr th:only-of-type {\n",
       "        vertical-align: middle;\n",
       "    }\n",
       "\n",
       "    .dataframe tbody tr th {\n",
       "        vertical-align: top;\n",
       "    }\n",
       "\n",
       "    .dataframe thead th {\n",
       "        text-align: right;\n",
       "    }\n",
       "</style>\n",
       "<table border=\"1\" class=\"dataframe\">\n",
       "  <thead>\n",
       "    <tr style=\"text-align: right;\">\n",
       "      <th></th>\n",
       "      <th>name</th>\n",
       "      <th>height</th>\n",
       "      <th>age</th>\n",
       "      <th>min</th>\n",
       "      <th>pts</th>\n",
       "      <th>rbs</th>\n",
       "      <th>ast</th>\n",
       "      <th>stl</th>\n",
       "      <th>blk</th>\n",
       "      <th>tov</th>\n",
       "      <th>...</th>\n",
       "      <th>tall:blk</th>\n",
       "      <th>tall:efg_per</th>\n",
       "      <th>tall:ast</th>\n",
       "      <th>tall:stl</th>\n",
       "      <th>tall:three_fg</th>\n",
       "      <th>RFA</th>\n",
       "      <th>chg_team</th>\n",
       "      <th>length</th>\n",
       "      <th>two_three_yr</th>\n",
       "      <th>four_five_yr</th>\n",
       "    </tr>\n",
       "  </thead>\n",
       "  <tbody>\n",
       "    <tr>\n",
       "      <th>0</th>\n",
       "      <td>Montrez Harrell</td>\n",
       "      <td>79</td>\n",
       "      <td>28.50</td>\n",
       "      <td>26.10</td>\n",
       "      <td>14.90</td>\n",
       "      <td>7.90</td>\n",
       "      <td>2.10</td>\n",
       "      <td>0.60</td>\n",
       "      <td>0.70</td>\n",
       "      <td>1.30</td>\n",
       "      <td>...</td>\n",
       "      <td>0.00</td>\n",
       "      <td>0.00</td>\n",
       "      <td>0.00</td>\n",
       "      <td>0.00</td>\n",
       "      <td>0.00</td>\n",
       "      <td>0</td>\n",
       "      <td>1</td>\n",
       "      <td>3</td>\n",
       "      <td>1</td>\n",
       "      <td>0</td>\n",
       "    </tr>\n",
       "    <tr>\n",
       "      <th>1</th>\n",
       "      <td>Dennis Schoder</td>\n",
       "      <td>75</td>\n",
       "      <td>28.80</td>\n",
       "      <td>33.40</td>\n",
       "      <td>17.50</td>\n",
       "      <td>3.60</td>\n",
       "      <td>4.90</td>\n",
       "      <td>0.90</td>\n",
       "      <td>0.00</td>\n",
       "      <td>2.60</td>\n",
       "      <td>...</td>\n",
       "      <td>0.00</td>\n",
       "      <td>0.00</td>\n",
       "      <td>0.00</td>\n",
       "      <td>0.00</td>\n",
       "      <td>0.00</td>\n",
       "      <td>0</td>\n",
       "      <td>1</td>\n",
       "      <td>4</td>\n",
       "      <td>0</td>\n",
       "      <td>1</td>\n",
       "    </tr>\n",
       "  </tbody>\n",
       "</table>\n",
       "<p>2 rows × 42 columns</p>\n",
       "</div>"
      ],
      "text/plain": [
       "              name height   age   min   pts  rbs  ast  stl  blk  tov  ...  \\\n",
       "0  Montrez Harrell     79 28.50 26.10 14.90 7.90 2.10 0.60 0.70 1.30  ...   \n",
       "1   Dennis Schoder     75 28.80 33.40 17.50 3.60 4.90 0.90 0.00 2.60  ...   \n",
       "\n",
       "   tall:blk  tall:efg_per  tall:ast  tall:stl  tall:three_fg  RFA  chg_team  \\\n",
       "0      0.00          0.00      0.00      0.00           0.00    0         1   \n",
       "1      0.00          0.00      0.00      0.00           0.00    0         1   \n",
       "\n",
       "   length  two_three_yr  four_five_yr  \n",
       "0       3             1             0  \n",
       "1       4             0             1  \n",
       "\n",
       "[2 rows x 42 columns]"
      ]
     },
     "execution_count": 29,
     "metadata": {},
     "output_type": "execute_result"
    }
   ],
   "source": [
    "free_agents.head()"
   ]
  },
  {
   "cell_type": "markdown",
   "id": "9f46bfc9",
   "metadata": {},
   "source": [
    "Now, that Schroder's feature values have been calculated, I will predict his upcoming salary using the model."
   ]
  },
  {
   "cell_type": "code",
   "execution_count": 30,
   "id": "ba2232bd",
   "metadata": {},
   "outputs": [],
   "source": [
    "d_schroder = [x for x in free_agents.loc[1][X].values]"
   ]
  },
  {
   "cell_type": "code",
   "execution_count": 31,
   "id": "53fd4403",
   "metadata": {
    "scrolled": true
   },
   "outputs": [
    {
     "data": {
      "text/plain": [
       "[array([17356858.80622774])]"
      ]
     },
     "execution_count": 31,
     "metadata": {},
     "output_type": "execute_result"
    }
   ],
   "source": [
    "predict(result, [d_schroder])"
   ]
  },
  {
   "cell_type": "markdown",
   "id": "35a2854b",
   "metadata": {},
   "source": [
    "The model predicts that Schroder will make roughly 17.3 million dollars per year for the next four years. This is not quite the 21 million dollars per year that he turned down, but it is still a lot of money!\n",
    "\n",
    "### Pat Connaughton\n",
    "\n",
    "While both Montrez Harrell and Dennis Schroder are really good players, they are not known for their shooting. Harrell is known for his inside game and toughness and Schroder is known for his playmaking and quickness. In today's NBA, you also need guys who can knock down threes. Enter Pat Connaughton. Pat Connaughton shot 37% from three in the 2020-21 season, but is currently shooting 43% to start the 2021-2022 season. If he keeps this pace up, he could be in line for a nice new contract in the offseason. Let's see what the model says about Connaughton. Here are his statistics at the current moment.\n",
    "\n",
    "Min: 28.8\n",
    "<br>Pts: 12.1\n",
    "<br>Rbs: 4.6\n",
    "<br>Ast: 1.3\n",
    "<br>Stl: 1.0\n",
    "<br>Blk: 0.4\n",
    "<br>Tov: 0.8\n",
    "<br>Three_FG: 2.7\n",
    "<br>eFG_per: 0.653\n",
    "\n",
    "Harrell is 6'5 (77 inches) and will be 29.5 when free agency happens next summer. He will be an Unrestricted Free Agent and is said to be looking for a 4 year contract.\n",
    "\n",
    "I will start by adding Connaughton to the `free_agents` DataFrame. "
   ]
  },
  {
   "cell_type": "code",
   "execution_count": 32,
   "id": "fb42b6f3",
   "metadata": {},
   "outputs": [],
   "source": [
    "free_agents.loc[2] = ['Pat Connaughton', 77, 29.5, 28.8, 12.1, 4.6, 1.3, 1.0, 0.4, 0.8, 2.7, 0.653] + 30*[0]"
   ]
  },
  {
   "cell_type": "code",
   "execution_count": 33,
   "id": "62d9128b",
   "metadata": {},
   "outputs": [
    {
     "data": {
      "text/html": [
       "<div>\n",
       "<style scoped>\n",
       "    .dataframe tbody tr th:only-of-type {\n",
       "        vertical-align: middle;\n",
       "    }\n",
       "\n",
       "    .dataframe tbody tr th {\n",
       "        vertical-align: top;\n",
       "    }\n",
       "\n",
       "    .dataframe thead th {\n",
       "        text-align: right;\n",
       "    }\n",
       "</style>\n",
       "<table border=\"1\" class=\"dataframe\">\n",
       "  <thead>\n",
       "    <tr style=\"text-align: right;\">\n",
       "      <th></th>\n",
       "      <th>name</th>\n",
       "      <th>height</th>\n",
       "      <th>age</th>\n",
       "      <th>min</th>\n",
       "      <th>pts</th>\n",
       "      <th>rbs</th>\n",
       "      <th>ast</th>\n",
       "      <th>stl</th>\n",
       "      <th>blk</th>\n",
       "      <th>tov</th>\n",
       "      <th>...</th>\n",
       "      <th>tall:blk</th>\n",
       "      <th>tall:efg_per</th>\n",
       "      <th>tall:ast</th>\n",
       "      <th>tall:stl</th>\n",
       "      <th>tall:three_fg</th>\n",
       "      <th>RFA</th>\n",
       "      <th>chg_team</th>\n",
       "      <th>length</th>\n",
       "      <th>two_three_yr</th>\n",
       "      <th>four_five_yr</th>\n",
       "    </tr>\n",
       "  </thead>\n",
       "  <tbody>\n",
       "    <tr>\n",
       "      <th>0</th>\n",
       "      <td>Montrez Harrell</td>\n",
       "      <td>79</td>\n",
       "      <td>28.50</td>\n",
       "      <td>26.10</td>\n",
       "      <td>14.90</td>\n",
       "      <td>7.90</td>\n",
       "      <td>2.10</td>\n",
       "      <td>0.60</td>\n",
       "      <td>0.70</td>\n",
       "      <td>1.30</td>\n",
       "      <td>...</td>\n",
       "      <td>0.00</td>\n",
       "      <td>0.00</td>\n",
       "      <td>0.00</td>\n",
       "      <td>0.00</td>\n",
       "      <td>0.00</td>\n",
       "      <td>0</td>\n",
       "      <td>1</td>\n",
       "      <td>3</td>\n",
       "      <td>1</td>\n",
       "      <td>0</td>\n",
       "    </tr>\n",
       "    <tr>\n",
       "      <th>1</th>\n",
       "      <td>Dennis Schoder</td>\n",
       "      <td>75</td>\n",
       "      <td>28.80</td>\n",
       "      <td>33.40</td>\n",
       "      <td>17.50</td>\n",
       "      <td>3.60</td>\n",
       "      <td>4.90</td>\n",
       "      <td>0.90</td>\n",
       "      <td>0.00</td>\n",
       "      <td>2.60</td>\n",
       "      <td>...</td>\n",
       "      <td>0.00</td>\n",
       "      <td>0.00</td>\n",
       "      <td>0.00</td>\n",
       "      <td>0.00</td>\n",
       "      <td>0.00</td>\n",
       "      <td>0</td>\n",
       "      <td>1</td>\n",
       "      <td>4</td>\n",
       "      <td>0</td>\n",
       "      <td>1</td>\n",
       "    </tr>\n",
       "    <tr>\n",
       "      <th>2</th>\n",
       "      <td>Pat Connaughton</td>\n",
       "      <td>77</td>\n",
       "      <td>29.50</td>\n",
       "      <td>28.80</td>\n",
       "      <td>12.10</td>\n",
       "      <td>4.60</td>\n",
       "      <td>1.30</td>\n",
       "      <td>1.00</td>\n",
       "      <td>0.40</td>\n",
       "      <td>0.80</td>\n",
       "      <td>...</td>\n",
       "      <td>0.00</td>\n",
       "      <td>0.00</td>\n",
       "      <td>0.00</td>\n",
       "      <td>0.00</td>\n",
       "      <td>0.00</td>\n",
       "      <td>0</td>\n",
       "      <td>0</td>\n",
       "      <td>0</td>\n",
       "      <td>0</td>\n",
       "      <td>0</td>\n",
       "    </tr>\n",
       "  </tbody>\n",
       "</table>\n",
       "<p>3 rows × 42 columns</p>\n",
       "</div>"
      ],
      "text/plain": [
       "              name height   age   min   pts  rbs  ast  stl  blk  tov  ...  \\\n",
       "0  Montrez Harrell     79 28.50 26.10 14.90 7.90 2.10 0.60 0.70 1.30  ...   \n",
       "1   Dennis Schoder     75 28.80 33.40 17.50 3.60 4.90 0.90 0.00 2.60  ...   \n",
       "2  Pat Connaughton     77 29.50 28.80 12.10 4.60 1.30 1.00 0.40 0.80  ...   \n",
       "\n",
       "   tall:blk  tall:efg_per  tall:ast  tall:stl  tall:three_fg  RFA  chg_team  \\\n",
       "0      0.00          0.00      0.00      0.00           0.00    0         1   \n",
       "1      0.00          0.00      0.00      0.00           0.00    0         1   \n",
       "2      0.00          0.00      0.00      0.00           0.00    0         0   \n",
       "\n",
       "   length  two_three_yr  four_five_yr  \n",
       "0       3             1             0  \n",
       "1       4             0             1  \n",
       "2       0             0             0  \n",
       "\n",
       "[3 rows x 42 columns]"
      ]
     },
     "execution_count": 33,
     "metadata": {},
     "output_type": "execute_result"
    }
   ],
   "source": [
    "free_agents"
   ]
  },
  {
   "cell_type": "markdown",
   "id": "64d1795b",
   "metadata": {},
   "source": [
    "Now, I will create the necessary features for Connaughton. First I will get the squared features."
   ]
  },
  {
   "cell_type": "code",
   "execution_count": 34,
   "id": "a30ef9dc",
   "metadata": {},
   "outputs": [],
   "source": [
    "free_agents.at[2,'pts_sq'] = free_agents.at[2,'pts']**2\n",
    "free_agents.at[2,'min_sq'] = free_agents.at[2,'min']**2\n",
    "free_agents.at[2,'rbs_sq'] = free_agents.at[2,'rbs']**2\n",
    "free_agents.at[2,'ast_sq'] = free_agents.at[2,'ast']**2\n",
    "free_agents.at[2,'stl_sq'] = free_agents.at[2,'stl']**2\n",
    "free_agents.at[2,'blk_sq'] = free_agents.at[2,'blk']**2\n",
    "free_agents.at[2,'tov_sq'] = free_agents.at[2,'tov']**2\n",
    "free_agents.at[2,'three_fg_sq'] = free_agents.at[2,'three_fg']**2"
   ]
  },
  {
   "cell_type": "markdown",
   "id": "16be5c0d",
   "metadata": {},
   "source": [
    "Next, I will decide which height group Connaughton falls into and compute the various interaction terms."
   ]
  },
  {
   "cell_type": "code",
   "execution_count": 35,
   "id": "d74af4a7",
   "metadata": {},
   "outputs": [],
   "source": [
    "if free_agents.at[2,'height']<=76:\n",
    "    free_agents.at[2,'short']=1\n",
    "    free_agents.at[2,'medium']=0\n",
    "    free_agents.at[2,'tall']=0\n",
    "elif free_agents.at[2,'height']<=81:\n",
    "    free_agents.at[2,'short']=0\n",
    "    free_agents.at[2,'medium']=1\n",
    "    free_agents.at[2,'tall']=0\n",
    "else:\n",
    "    free_agents.at[2,'short']=0\n",
    "    free_agents.at[2,'medium']=0\n",
    "    free_agents.at[2,'tall']=1"
   ]
  },
  {
   "cell_type": "code",
   "execution_count": 36,
   "id": "ffba7b55",
   "metadata": {},
   "outputs": [],
   "source": [
    "free_agents.at[2,'short:pts'] = free_agents.at[2,'short'] * free_agents.at[2,'pts']\n",
    "free_agents.at[2,'short:rbs'] = free_agents.at[2,'short'] * free_agents.at[2,'rbs']\n",
    "free_agents.at[2,'short:blk'] = free_agents.at[2,'short'] * free_agents.at[2,'blk']\n",
    "free_agents.at[2,'short:efg_per'] = free_agents.at[2,'short'] * free_agents.at[2,'efg_per']\n",
    "free_agents.at[2,'short:ast'] = free_agents.at[2,'short'] * free_agents.at[2,'ast']\n",
    "free_agents.at[2,'short:stl'] = free_agents.at[2,'short'] * free_agents.at[2,'stl']\n",
    "free_agents.at[2,'short:three_fg'] = free_agents.at[2,'short'] * free_agents.at[2,'three_fg']\n",
    "\n",
    "free_agents.at[2,'tall:pts'] = free_agents.at[2,'tall'] * free_agents.at[2,'pts']\n",
    "free_agents.at[2,'tall:rbs'] = free_agents.at[2,'tall'] * free_agents.at[2,'rbs']\n",
    "free_agents.at[2,'tall:blk'] = free_agents.at[2,'tall'] * free_agents.at[2,'blk']\n",
    "free_agents.at[2,'tall:efg_per'] = free_agents.at[2,'tall'] * free_agents.at[2,'efg_per']\n",
    "free_agents.at[2,'tall:ast'] = free_agents.at[2,'tall'] * free_agents.at[2,'ast']\n",
    "free_agents.at[2,'tall:stl'] = free_agents.at[2,'tall'] * free_agents.at[2,'stl']\n",
    "free_agents.at[2,'tall:three_fg'] = free_agents.at[2,'tall'] * free_agents.at[2,'three_fg']"
   ]
  },
  {
   "cell_type": "markdown",
   "id": "e303fbdf",
   "metadata": {},
   "source": [
    "Next, I will set `RFA` and `chg_team`."
   ]
  },
  {
   "cell_type": "code",
   "execution_count": 37,
   "id": "9741159a",
   "metadata": {},
   "outputs": [],
   "source": [
    "free_agents.at[2,'RFA'] = 0\n",
    "free_agents.at[2,'chg_team'] = 1"
   ]
  },
  {
   "cell_type": "markdown",
   "id": "23fac289",
   "metadata": {},
   "source": [
    "Lastly, I will define the length and length binary features for Pat."
   ]
  },
  {
   "cell_type": "code",
   "execution_count": 38,
   "id": "5aca9c0d",
   "metadata": {},
   "outputs": [],
   "source": [
    "free_agents.at[2,'length'] = 4\n",
    "free_agents.at[2,'two_three_yr'] = 0\n",
    "free_agents.at[2,'four_five_yr'] = 1"
   ]
  },
  {
   "cell_type": "code",
   "execution_count": 39,
   "id": "26c587e5",
   "metadata": {},
   "outputs": [
    {
     "data": {
      "text/html": [
       "<div>\n",
       "<style scoped>\n",
       "    .dataframe tbody tr th:only-of-type {\n",
       "        vertical-align: middle;\n",
       "    }\n",
       "\n",
       "    .dataframe tbody tr th {\n",
       "        vertical-align: top;\n",
       "    }\n",
       "\n",
       "    .dataframe thead th {\n",
       "        text-align: right;\n",
       "    }\n",
       "</style>\n",
       "<table border=\"1\" class=\"dataframe\">\n",
       "  <thead>\n",
       "    <tr style=\"text-align: right;\">\n",
       "      <th></th>\n",
       "      <th>name</th>\n",
       "      <th>height</th>\n",
       "      <th>age</th>\n",
       "      <th>min</th>\n",
       "      <th>pts</th>\n",
       "      <th>rbs</th>\n",
       "      <th>ast</th>\n",
       "      <th>stl</th>\n",
       "      <th>blk</th>\n",
       "      <th>tov</th>\n",
       "      <th>...</th>\n",
       "      <th>tall:blk</th>\n",
       "      <th>tall:efg_per</th>\n",
       "      <th>tall:ast</th>\n",
       "      <th>tall:stl</th>\n",
       "      <th>tall:three_fg</th>\n",
       "      <th>RFA</th>\n",
       "      <th>chg_team</th>\n",
       "      <th>length</th>\n",
       "      <th>two_three_yr</th>\n",
       "      <th>four_five_yr</th>\n",
       "    </tr>\n",
       "  </thead>\n",
       "  <tbody>\n",
       "    <tr>\n",
       "      <th>0</th>\n",
       "      <td>Montrez Harrell</td>\n",
       "      <td>79</td>\n",
       "      <td>28.50</td>\n",
       "      <td>26.10</td>\n",
       "      <td>14.90</td>\n",
       "      <td>7.90</td>\n",
       "      <td>2.10</td>\n",
       "      <td>0.60</td>\n",
       "      <td>0.70</td>\n",
       "      <td>1.30</td>\n",
       "      <td>...</td>\n",
       "      <td>0.00</td>\n",
       "      <td>0.00</td>\n",
       "      <td>0.00</td>\n",
       "      <td>0.00</td>\n",
       "      <td>0.00</td>\n",
       "      <td>0</td>\n",
       "      <td>1</td>\n",
       "      <td>3</td>\n",
       "      <td>1</td>\n",
       "      <td>0</td>\n",
       "    </tr>\n",
       "    <tr>\n",
       "      <th>1</th>\n",
       "      <td>Dennis Schoder</td>\n",
       "      <td>75</td>\n",
       "      <td>28.80</td>\n",
       "      <td>33.40</td>\n",
       "      <td>17.50</td>\n",
       "      <td>3.60</td>\n",
       "      <td>4.90</td>\n",
       "      <td>0.90</td>\n",
       "      <td>0.00</td>\n",
       "      <td>2.60</td>\n",
       "      <td>...</td>\n",
       "      <td>0.00</td>\n",
       "      <td>0.00</td>\n",
       "      <td>0.00</td>\n",
       "      <td>0.00</td>\n",
       "      <td>0.00</td>\n",
       "      <td>0</td>\n",
       "      <td>1</td>\n",
       "      <td>4</td>\n",
       "      <td>0</td>\n",
       "      <td>1</td>\n",
       "    </tr>\n",
       "    <tr>\n",
       "      <th>2</th>\n",
       "      <td>Pat Connaughton</td>\n",
       "      <td>77</td>\n",
       "      <td>29.50</td>\n",
       "      <td>28.80</td>\n",
       "      <td>12.10</td>\n",
       "      <td>4.60</td>\n",
       "      <td>1.30</td>\n",
       "      <td>1.00</td>\n",
       "      <td>0.40</td>\n",
       "      <td>0.80</td>\n",
       "      <td>...</td>\n",
       "      <td>0.00</td>\n",
       "      <td>0.00</td>\n",
       "      <td>0.00</td>\n",
       "      <td>0.00</td>\n",
       "      <td>0.00</td>\n",
       "      <td>0</td>\n",
       "      <td>1</td>\n",
       "      <td>4</td>\n",
       "      <td>0</td>\n",
       "      <td>1</td>\n",
       "    </tr>\n",
       "  </tbody>\n",
       "</table>\n",
       "<p>3 rows × 42 columns</p>\n",
       "</div>"
      ],
      "text/plain": [
       "              name height   age   min   pts  rbs  ast  stl  blk  tov  ...  \\\n",
       "0  Montrez Harrell     79 28.50 26.10 14.90 7.90 2.10 0.60 0.70 1.30  ...   \n",
       "1   Dennis Schoder     75 28.80 33.40 17.50 3.60 4.90 0.90 0.00 2.60  ...   \n",
       "2  Pat Connaughton     77 29.50 28.80 12.10 4.60 1.30 1.00 0.40 0.80  ...   \n",
       "\n",
       "   tall:blk  tall:efg_per  tall:ast  tall:stl  tall:three_fg  RFA  chg_team  \\\n",
       "0      0.00          0.00      0.00      0.00           0.00    0         1   \n",
       "1      0.00          0.00      0.00      0.00           0.00    0         1   \n",
       "2      0.00          0.00      0.00      0.00           0.00    0         1   \n",
       "\n",
       "   length  two_three_yr  four_five_yr  \n",
       "0       3             1             0  \n",
       "1       4             0             1  \n",
       "2       4             0             1  \n",
       "\n",
       "[3 rows x 42 columns]"
      ]
     },
     "execution_count": 39,
     "metadata": {},
     "output_type": "execute_result"
    }
   ],
   "source": [
    "free_agents.head()"
   ]
  },
  {
   "cell_type": "markdown",
   "id": "0fe1d1e7",
   "metadata": {},
   "source": [
    "Now, that Connaughton's feature values have been calculated, I will predict his upcoming salary using the model."
   ]
  },
  {
   "cell_type": "code",
   "execution_count": 40,
   "id": "122fb3e0",
   "metadata": {},
   "outputs": [],
   "source": [
    "p_connaughton = [x for x in free_agents.loc[2][X].values]"
   ]
  },
  {
   "cell_type": "code",
   "execution_count": 41,
   "id": "3cff8ae2",
   "metadata": {
    "scrolled": true
   },
   "outputs": [
    {
     "data": {
      "text/plain": [
       "[array([15272202.66749128])]"
      ]
     },
     "execution_count": 41,
     "metadata": {},
     "output_type": "execute_result"
    }
   ],
   "source": [
    "predict(result, [p_connaughton])"
   ]
  },
  {
   "cell_type": "markdown",
   "id": "c3234bbd",
   "metadata": {},
   "source": [
    "The model predicts that Connaughton will make just over 15 million dollars next year, which is about 10 million more than he is making this season. This might be an example of one of the very high miscalculations by the model, but as the contract has not been signed yet, there is no way to know that at this point.\n",
    "\n",
    "The front office does not want to spend that much money on Connaughton, especially when he has not really proved that level of shooting until this season. They are still interested in guards who can shoot to round out the team and have asked me to find a player like this who might be a little cheaper.\n",
    "\n",
    "### Bryn Forbes\n",
    "\n",
    "One option to target instead of Connaughton would be Bryn Forbes. Forbes currently is a SG for the San Antonio Spurs and is shooting 42.5% from three so far, albeit on lower attempts. Here are his other statistical numbers.\n",
    "\n",
    "Min: 14.3\n",
    "<br>Pts: 7.2\n",
    "<br>Rbs: 1.2\n",
    "<br>Ast: 0.7\n",
    "<br>Stl: 0.4\n",
    "<br>Blk: 0.0\n",
    "<br>Tov: 0.9\n",
    "<br>Three_FG: 1.2\n",
    "<br>eFG_per: 0.564\n",
    "\n",
    "Harrell is 6'2 (74 inches) and will be 29 when free agency happens next summer. He will be an Unrestricted Free Agent and is said to be looking for a 2 year contract.\n",
    "\n",
    "I will start by adding Forbes to the `free_agents` DataFrame. "
   ]
  },
  {
   "cell_type": "code",
   "execution_count": 42,
   "id": "68b0b617",
   "metadata": {},
   "outputs": [],
   "source": [
    "free_agents.loc[3] = ['Bryn Forbes', 74, 29.0, 14.3, 7.2, 1.2, 0.7, 0.4, 0.0, 0.9, 1.2, 0.564] + 30*[0]"
   ]
  },
  {
   "cell_type": "code",
   "execution_count": 43,
   "id": "5fdb6add",
   "metadata": {},
   "outputs": [
    {
     "data": {
      "text/html": [
       "<div>\n",
       "<style scoped>\n",
       "    .dataframe tbody tr th:only-of-type {\n",
       "        vertical-align: middle;\n",
       "    }\n",
       "\n",
       "    .dataframe tbody tr th {\n",
       "        vertical-align: top;\n",
       "    }\n",
       "\n",
       "    .dataframe thead th {\n",
       "        text-align: right;\n",
       "    }\n",
       "</style>\n",
       "<table border=\"1\" class=\"dataframe\">\n",
       "  <thead>\n",
       "    <tr style=\"text-align: right;\">\n",
       "      <th></th>\n",
       "      <th>name</th>\n",
       "      <th>height</th>\n",
       "      <th>age</th>\n",
       "      <th>min</th>\n",
       "      <th>pts</th>\n",
       "      <th>rbs</th>\n",
       "      <th>ast</th>\n",
       "      <th>stl</th>\n",
       "      <th>blk</th>\n",
       "      <th>tov</th>\n",
       "      <th>...</th>\n",
       "      <th>tall:blk</th>\n",
       "      <th>tall:efg_per</th>\n",
       "      <th>tall:ast</th>\n",
       "      <th>tall:stl</th>\n",
       "      <th>tall:three_fg</th>\n",
       "      <th>RFA</th>\n",
       "      <th>chg_team</th>\n",
       "      <th>length</th>\n",
       "      <th>two_three_yr</th>\n",
       "      <th>four_five_yr</th>\n",
       "    </tr>\n",
       "  </thead>\n",
       "  <tbody>\n",
       "    <tr>\n",
       "      <th>0</th>\n",
       "      <td>Montrez Harrell</td>\n",
       "      <td>79</td>\n",
       "      <td>28.50</td>\n",
       "      <td>26.10</td>\n",
       "      <td>14.90</td>\n",
       "      <td>7.90</td>\n",
       "      <td>2.10</td>\n",
       "      <td>0.60</td>\n",
       "      <td>0.70</td>\n",
       "      <td>1.30</td>\n",
       "      <td>...</td>\n",
       "      <td>0.00</td>\n",
       "      <td>0.00</td>\n",
       "      <td>0.00</td>\n",
       "      <td>0.00</td>\n",
       "      <td>0.00</td>\n",
       "      <td>0</td>\n",
       "      <td>1</td>\n",
       "      <td>3</td>\n",
       "      <td>1</td>\n",
       "      <td>0</td>\n",
       "    </tr>\n",
       "    <tr>\n",
       "      <th>1</th>\n",
       "      <td>Dennis Schoder</td>\n",
       "      <td>75</td>\n",
       "      <td>28.80</td>\n",
       "      <td>33.40</td>\n",
       "      <td>17.50</td>\n",
       "      <td>3.60</td>\n",
       "      <td>4.90</td>\n",
       "      <td>0.90</td>\n",
       "      <td>0.00</td>\n",
       "      <td>2.60</td>\n",
       "      <td>...</td>\n",
       "      <td>0.00</td>\n",
       "      <td>0.00</td>\n",
       "      <td>0.00</td>\n",
       "      <td>0.00</td>\n",
       "      <td>0.00</td>\n",
       "      <td>0</td>\n",
       "      <td>1</td>\n",
       "      <td>4</td>\n",
       "      <td>0</td>\n",
       "      <td>1</td>\n",
       "    </tr>\n",
       "    <tr>\n",
       "      <th>2</th>\n",
       "      <td>Pat Connaughton</td>\n",
       "      <td>77</td>\n",
       "      <td>29.50</td>\n",
       "      <td>28.80</td>\n",
       "      <td>12.10</td>\n",
       "      <td>4.60</td>\n",
       "      <td>1.30</td>\n",
       "      <td>1.00</td>\n",
       "      <td>0.40</td>\n",
       "      <td>0.80</td>\n",
       "      <td>...</td>\n",
       "      <td>0.00</td>\n",
       "      <td>0.00</td>\n",
       "      <td>0.00</td>\n",
       "      <td>0.00</td>\n",
       "      <td>0.00</td>\n",
       "      <td>0</td>\n",
       "      <td>1</td>\n",
       "      <td>4</td>\n",
       "      <td>0</td>\n",
       "      <td>1</td>\n",
       "    </tr>\n",
       "    <tr>\n",
       "      <th>3</th>\n",
       "      <td>Bryn Forbes</td>\n",
       "      <td>74</td>\n",
       "      <td>29.00</td>\n",
       "      <td>14.30</td>\n",
       "      <td>7.20</td>\n",
       "      <td>1.20</td>\n",
       "      <td>0.70</td>\n",
       "      <td>0.40</td>\n",
       "      <td>0.00</td>\n",
       "      <td>0.90</td>\n",
       "      <td>...</td>\n",
       "      <td>0.00</td>\n",
       "      <td>0.00</td>\n",
       "      <td>0.00</td>\n",
       "      <td>0.00</td>\n",
       "      <td>0.00</td>\n",
       "      <td>0</td>\n",
       "      <td>0</td>\n",
       "      <td>0</td>\n",
       "      <td>0</td>\n",
       "      <td>0</td>\n",
       "    </tr>\n",
       "  </tbody>\n",
       "</table>\n",
       "<p>4 rows × 42 columns</p>\n",
       "</div>"
      ],
      "text/plain": [
       "              name height   age   min   pts  rbs  ast  stl  blk  tov  ...  \\\n",
       "0  Montrez Harrell     79 28.50 26.10 14.90 7.90 2.10 0.60 0.70 1.30  ...   \n",
       "1   Dennis Schoder     75 28.80 33.40 17.50 3.60 4.90 0.90 0.00 2.60  ...   \n",
       "2  Pat Connaughton     77 29.50 28.80 12.10 4.60 1.30 1.00 0.40 0.80  ...   \n",
       "3      Bryn Forbes     74 29.00 14.30  7.20 1.20 0.70 0.40 0.00 0.90  ...   \n",
       "\n",
       "   tall:blk  tall:efg_per  tall:ast  tall:stl  tall:three_fg  RFA  chg_team  \\\n",
       "0      0.00          0.00      0.00      0.00           0.00    0         1   \n",
       "1      0.00          0.00      0.00      0.00           0.00    0         1   \n",
       "2      0.00          0.00      0.00      0.00           0.00    0         1   \n",
       "3      0.00          0.00      0.00      0.00           0.00    0         0   \n",
       "\n",
       "   length  two_three_yr  four_five_yr  \n",
       "0       3             1             0  \n",
       "1       4             0             1  \n",
       "2       4             0             1  \n",
       "3       0             0             0  \n",
       "\n",
       "[4 rows x 42 columns]"
      ]
     },
     "execution_count": 43,
     "metadata": {},
     "output_type": "execute_result"
    }
   ],
   "source": [
    "free_agents"
   ]
  },
  {
   "cell_type": "markdown",
   "id": "dec3d33b",
   "metadata": {},
   "source": [
    "Now, I will create the necessary features for Forbes. First I will get the squared features."
   ]
  },
  {
   "cell_type": "code",
   "execution_count": 44,
   "id": "92212421",
   "metadata": {},
   "outputs": [],
   "source": [
    "free_agents.at[3,'pts_sq'] = free_agents.at[3,'pts']**2\n",
    "free_agents.at[3,'min_sq'] = free_agents.at[3,'min']**2\n",
    "free_agents.at[3,'rbs_sq'] = free_agents.at[3,'rbs']**2\n",
    "free_agents.at[3,'ast_sq'] = free_agents.at[3,'ast']**2\n",
    "free_agents.at[3,'stl_sq'] = free_agents.at[3,'stl']**2\n",
    "free_agents.at[3,'blk_sq'] = free_agents.at[3,'blk']**2\n",
    "free_agents.at[3,'tov_sq'] = free_agents.at[3,'tov']**2\n",
    "free_agents.at[3,'three_fg_sq'] = free_agents.at[3,'three_fg']**2"
   ]
  },
  {
   "cell_type": "markdown",
   "id": "bd327d73",
   "metadata": {},
   "source": [
    "Next, I will decide which height group Forbes falls into and compute the various interaction terms."
   ]
  },
  {
   "cell_type": "code",
   "execution_count": 45,
   "id": "bf9c3133",
   "metadata": {},
   "outputs": [],
   "source": [
    "if free_agents.at[3,'height']<=76:\n",
    "    free_agents.at[3,'short']=1\n",
    "    free_agents.at[3,'medium']=0\n",
    "    free_agents.at[3,'tall']=0\n",
    "elif free_agents.at[3,'height']<=81:\n",
    "    free_agents.at[3,'short']=0\n",
    "    free_agents.at[3,'medium']=1\n",
    "    free_agents.at[3,'tall']=0\n",
    "else:\n",
    "    free_agents.at[3,'short']=0\n",
    "    free_agents.at[3,'medium']=0\n",
    "    free_agents.at[3,'tall']=1"
   ]
  },
  {
   "cell_type": "code",
   "execution_count": 46,
   "id": "b5c5c834",
   "metadata": {},
   "outputs": [],
   "source": [
    "free_agents.at[3,'short:pts'] = free_agents.at[3,'short'] * free_agents.at[3,'pts']\n",
    "free_agents.at[3,'short:rbs'] = free_agents.at[3,'short'] * free_agents.at[3,'rbs']\n",
    "free_agents.at[3,'short:blk'] = free_agents.at[3,'short'] * free_agents.at[3,'blk']\n",
    "free_agents.at[3,'short:efg_per'] = free_agents.at[3,'short'] * free_agents.at[3,'efg_per']\n",
    "free_agents.at[3,'short:ast'] = free_agents.at[3,'short'] * free_agents.at[3,'ast']\n",
    "free_agents.at[3,'short:stl'] = free_agents.at[3,'short'] * free_agents.at[3,'stl']\n",
    "free_agents.at[3,'short:three_fg'] = free_agents.at[3,'short'] * free_agents.at[3,'three_fg']\n",
    "\n",
    "free_agents.at[3,'tall:pts'] = free_agents.at[3,'tall'] * free_agents.at[3,'pts']\n",
    "free_agents.at[3,'tall:rbs'] = free_agents.at[3,'tall'] * free_agents.at[3,'rbs']\n",
    "free_agents.at[3,'tall:blk'] = free_agents.at[3,'tall'] * free_agents.at[3,'blk']\n",
    "free_agents.at[3,'tall:efg_per'] = free_agents.at[3,'tall'] * free_agents.at[3,'efg_per']\n",
    "free_agents.at[3,'tall:ast'] = free_agents.at[3,'tall'] * free_agents.at[3,'ast']\n",
    "free_agents.at[3,'tall:stl'] = free_agents.at[3,'tall'] * free_agents.at[3,'stl']\n",
    "free_agents.at[3,'tall:three_fg'] = free_agents.at[3,'tall'] * free_agents.at[3,'three_fg']"
   ]
  },
  {
   "cell_type": "markdown",
   "id": "b6ac211e",
   "metadata": {},
   "source": [
    "Next, I will set `RFA` and `chg_team`."
   ]
  },
  {
   "cell_type": "code",
   "execution_count": 47,
   "id": "d288cc06",
   "metadata": {},
   "outputs": [],
   "source": [
    "free_agents.at[3,'RFA'] = 0\n",
    "free_agents.at[3,'chg_team'] = 1"
   ]
  },
  {
   "cell_type": "markdown",
   "id": "594b0799",
   "metadata": {},
   "source": [
    "Lastly, I will define the length and length binary features for Forbes."
   ]
  },
  {
   "cell_type": "code",
   "execution_count": 48,
   "id": "ccd2491a",
   "metadata": {},
   "outputs": [],
   "source": [
    "free_agents.at[3,'length'] = 2\n",
    "free_agents.at[3,'two_three_yr'] = 1\n",
    "free_agents.at[3,'four_five_yr'] = 0"
   ]
  },
  {
   "cell_type": "code",
   "execution_count": 49,
   "id": "5f0ee154",
   "metadata": {},
   "outputs": [
    {
     "data": {
      "text/html": [
       "<div>\n",
       "<style scoped>\n",
       "    .dataframe tbody tr th:only-of-type {\n",
       "        vertical-align: middle;\n",
       "    }\n",
       "\n",
       "    .dataframe tbody tr th {\n",
       "        vertical-align: top;\n",
       "    }\n",
       "\n",
       "    .dataframe thead th {\n",
       "        text-align: right;\n",
       "    }\n",
       "</style>\n",
       "<table border=\"1\" class=\"dataframe\">\n",
       "  <thead>\n",
       "    <tr style=\"text-align: right;\">\n",
       "      <th></th>\n",
       "      <th>name</th>\n",
       "      <th>height</th>\n",
       "      <th>age</th>\n",
       "      <th>min</th>\n",
       "      <th>pts</th>\n",
       "      <th>rbs</th>\n",
       "      <th>ast</th>\n",
       "      <th>stl</th>\n",
       "      <th>blk</th>\n",
       "      <th>tov</th>\n",
       "      <th>...</th>\n",
       "      <th>tall:blk</th>\n",
       "      <th>tall:efg_per</th>\n",
       "      <th>tall:ast</th>\n",
       "      <th>tall:stl</th>\n",
       "      <th>tall:three_fg</th>\n",
       "      <th>RFA</th>\n",
       "      <th>chg_team</th>\n",
       "      <th>length</th>\n",
       "      <th>two_three_yr</th>\n",
       "      <th>four_five_yr</th>\n",
       "    </tr>\n",
       "  </thead>\n",
       "  <tbody>\n",
       "    <tr>\n",
       "      <th>0</th>\n",
       "      <td>Montrez Harrell</td>\n",
       "      <td>79</td>\n",
       "      <td>28.50</td>\n",
       "      <td>26.10</td>\n",
       "      <td>14.90</td>\n",
       "      <td>7.90</td>\n",
       "      <td>2.10</td>\n",
       "      <td>0.60</td>\n",
       "      <td>0.70</td>\n",
       "      <td>1.30</td>\n",
       "      <td>...</td>\n",
       "      <td>0.00</td>\n",
       "      <td>0.00</td>\n",
       "      <td>0.00</td>\n",
       "      <td>0.00</td>\n",
       "      <td>0.00</td>\n",
       "      <td>0</td>\n",
       "      <td>1</td>\n",
       "      <td>3</td>\n",
       "      <td>1</td>\n",
       "      <td>0</td>\n",
       "    </tr>\n",
       "    <tr>\n",
       "      <th>1</th>\n",
       "      <td>Dennis Schoder</td>\n",
       "      <td>75</td>\n",
       "      <td>28.80</td>\n",
       "      <td>33.40</td>\n",
       "      <td>17.50</td>\n",
       "      <td>3.60</td>\n",
       "      <td>4.90</td>\n",
       "      <td>0.90</td>\n",
       "      <td>0.00</td>\n",
       "      <td>2.60</td>\n",
       "      <td>...</td>\n",
       "      <td>0.00</td>\n",
       "      <td>0.00</td>\n",
       "      <td>0.00</td>\n",
       "      <td>0.00</td>\n",
       "      <td>0.00</td>\n",
       "      <td>0</td>\n",
       "      <td>1</td>\n",
       "      <td>4</td>\n",
       "      <td>0</td>\n",
       "      <td>1</td>\n",
       "    </tr>\n",
       "    <tr>\n",
       "      <th>2</th>\n",
       "      <td>Pat Connaughton</td>\n",
       "      <td>77</td>\n",
       "      <td>29.50</td>\n",
       "      <td>28.80</td>\n",
       "      <td>12.10</td>\n",
       "      <td>4.60</td>\n",
       "      <td>1.30</td>\n",
       "      <td>1.00</td>\n",
       "      <td>0.40</td>\n",
       "      <td>0.80</td>\n",
       "      <td>...</td>\n",
       "      <td>0.00</td>\n",
       "      <td>0.00</td>\n",
       "      <td>0.00</td>\n",
       "      <td>0.00</td>\n",
       "      <td>0.00</td>\n",
       "      <td>0</td>\n",
       "      <td>1</td>\n",
       "      <td>4</td>\n",
       "      <td>0</td>\n",
       "      <td>1</td>\n",
       "    </tr>\n",
       "    <tr>\n",
       "      <th>3</th>\n",
       "      <td>Bryn Forbes</td>\n",
       "      <td>74</td>\n",
       "      <td>29.00</td>\n",
       "      <td>14.30</td>\n",
       "      <td>7.20</td>\n",
       "      <td>1.20</td>\n",
       "      <td>0.70</td>\n",
       "      <td>0.40</td>\n",
       "      <td>0.00</td>\n",
       "      <td>0.90</td>\n",
       "      <td>...</td>\n",
       "      <td>0.00</td>\n",
       "      <td>0.00</td>\n",
       "      <td>0.00</td>\n",
       "      <td>0.00</td>\n",
       "      <td>0.00</td>\n",
       "      <td>0</td>\n",
       "      <td>1</td>\n",
       "      <td>2</td>\n",
       "      <td>1</td>\n",
       "      <td>0</td>\n",
       "    </tr>\n",
       "  </tbody>\n",
       "</table>\n",
       "<p>4 rows × 42 columns</p>\n",
       "</div>"
      ],
      "text/plain": [
       "              name height   age   min   pts  rbs  ast  stl  blk  tov  ...  \\\n",
       "0  Montrez Harrell     79 28.50 26.10 14.90 7.90 2.10 0.60 0.70 1.30  ...   \n",
       "1   Dennis Schoder     75 28.80 33.40 17.50 3.60 4.90 0.90 0.00 2.60  ...   \n",
       "2  Pat Connaughton     77 29.50 28.80 12.10 4.60 1.30 1.00 0.40 0.80  ...   \n",
       "3      Bryn Forbes     74 29.00 14.30  7.20 1.20 0.70 0.40 0.00 0.90  ...   \n",
       "\n",
       "   tall:blk  tall:efg_per  tall:ast  tall:stl  tall:three_fg  RFA  chg_team  \\\n",
       "0      0.00          0.00      0.00      0.00           0.00    0         1   \n",
       "1      0.00          0.00      0.00      0.00           0.00    0         1   \n",
       "2      0.00          0.00      0.00      0.00           0.00    0         1   \n",
       "3      0.00          0.00      0.00      0.00           0.00    0         1   \n",
       "\n",
       "   length  two_three_yr  four_five_yr  \n",
       "0       3             1             0  \n",
       "1       4             0             1  \n",
       "2       4             0             1  \n",
       "3       2             1             0  \n",
       "\n",
       "[4 rows x 42 columns]"
      ]
     },
     "execution_count": 49,
     "metadata": {},
     "output_type": "execute_result"
    }
   ],
   "source": [
    "free_agents.head()"
   ]
  },
  {
   "cell_type": "markdown",
   "id": "567c4d7e",
   "metadata": {},
   "source": [
    "Now, that Forbes' feature values have been calculated, I will predict his upcoming salary using the model."
   ]
  },
  {
   "cell_type": "code",
   "execution_count": 50,
   "id": "a7a10be4",
   "metadata": {},
   "outputs": [],
   "source": [
    "b_forbes = [x for x in free_agents.loc[3][X].values]"
   ]
  },
  {
   "cell_type": "code",
   "execution_count": 51,
   "id": "b408e228",
   "metadata": {
    "scrolled": true
   },
   "outputs": [
    {
     "data": {
      "text/plain": [
       "[array([3350926.24831904])]"
      ]
     },
     "execution_count": 51,
     "metadata": {},
     "output_type": "execute_result"
    }
   ],
   "source": [
    "predict(result, [b_forbes])"
   ]
  },
  {
   "cell_type": "markdown",
   "id": "69c3fe21",
   "metadata": {},
   "source": [
    "The model predicts that Forbes will make 3.35 million dollars next year, which is significantly lower than Connaughton. While Forbes is playing and shooting less than Connaughton currently, this percentages suggest that he could be very productive if given more time. This might be a very good bargain for Seattle. I want to take a look at one more potential option.\n",
    "\n",
    "### Trey Burke\n",
    "\n",
    "Another option is Trey Burke. Burke is currently a point guard for the Dallas Mavericks and is shooting 42.3% from three so far. Here are his other statistical numbers.\n",
    "\n",
    "Min: 11.3\n",
    "<br>Pts: 6.4\n",
    "<br>Rbs: 0.7\n",
    "<br>Ast: 1.6\n",
    "<br>Stl: 0.4\n",
    "<br>Blk: 0.0\n",
    "<br>Tov: 0.9\n",
    "<br>Three_FG: 0.8\n",
    "<br>eFG_per: 0.52\n",
    "\n",
    "Harrell is 6'0 (72 inches) and will be 29.5 when free agency happens next summer. He will be an Unrestricted Free Agent and is said to be looking for a 1 year contract.\n",
    "\n",
    "I will start by adding Burke to the `free_agents` DataFrame. "
   ]
  },
  {
   "cell_type": "code",
   "execution_count": 52,
   "id": "eeebbe44",
   "metadata": {},
   "outputs": [],
   "source": [
    "free_agents.loc[4] = ['Trey Burke', 72, 29.5, 11.3, 6.4, 0.7, 1.6, 0.4, 0.0, 0.9, 0.8, 0.520] + 30*[0]"
   ]
  },
  {
   "cell_type": "code",
   "execution_count": 53,
   "id": "cfe99daa",
   "metadata": {},
   "outputs": [
    {
     "data": {
      "text/html": [
       "<div>\n",
       "<style scoped>\n",
       "    .dataframe tbody tr th:only-of-type {\n",
       "        vertical-align: middle;\n",
       "    }\n",
       "\n",
       "    .dataframe tbody tr th {\n",
       "        vertical-align: top;\n",
       "    }\n",
       "\n",
       "    .dataframe thead th {\n",
       "        text-align: right;\n",
       "    }\n",
       "</style>\n",
       "<table border=\"1\" class=\"dataframe\">\n",
       "  <thead>\n",
       "    <tr style=\"text-align: right;\">\n",
       "      <th></th>\n",
       "      <th>name</th>\n",
       "      <th>height</th>\n",
       "      <th>age</th>\n",
       "      <th>min</th>\n",
       "      <th>pts</th>\n",
       "      <th>rbs</th>\n",
       "      <th>ast</th>\n",
       "      <th>stl</th>\n",
       "      <th>blk</th>\n",
       "      <th>tov</th>\n",
       "      <th>...</th>\n",
       "      <th>tall:blk</th>\n",
       "      <th>tall:efg_per</th>\n",
       "      <th>tall:ast</th>\n",
       "      <th>tall:stl</th>\n",
       "      <th>tall:three_fg</th>\n",
       "      <th>RFA</th>\n",
       "      <th>chg_team</th>\n",
       "      <th>length</th>\n",
       "      <th>two_three_yr</th>\n",
       "      <th>four_five_yr</th>\n",
       "    </tr>\n",
       "  </thead>\n",
       "  <tbody>\n",
       "    <tr>\n",
       "      <th>0</th>\n",
       "      <td>Montrez Harrell</td>\n",
       "      <td>79</td>\n",
       "      <td>28.50</td>\n",
       "      <td>26.10</td>\n",
       "      <td>14.90</td>\n",
       "      <td>7.90</td>\n",
       "      <td>2.10</td>\n",
       "      <td>0.60</td>\n",
       "      <td>0.70</td>\n",
       "      <td>1.30</td>\n",
       "      <td>...</td>\n",
       "      <td>0.00</td>\n",
       "      <td>0.00</td>\n",
       "      <td>0.00</td>\n",
       "      <td>0.00</td>\n",
       "      <td>0.00</td>\n",
       "      <td>0</td>\n",
       "      <td>1</td>\n",
       "      <td>3</td>\n",
       "      <td>1</td>\n",
       "      <td>0</td>\n",
       "    </tr>\n",
       "    <tr>\n",
       "      <th>1</th>\n",
       "      <td>Dennis Schoder</td>\n",
       "      <td>75</td>\n",
       "      <td>28.80</td>\n",
       "      <td>33.40</td>\n",
       "      <td>17.50</td>\n",
       "      <td>3.60</td>\n",
       "      <td>4.90</td>\n",
       "      <td>0.90</td>\n",
       "      <td>0.00</td>\n",
       "      <td>2.60</td>\n",
       "      <td>...</td>\n",
       "      <td>0.00</td>\n",
       "      <td>0.00</td>\n",
       "      <td>0.00</td>\n",
       "      <td>0.00</td>\n",
       "      <td>0.00</td>\n",
       "      <td>0</td>\n",
       "      <td>1</td>\n",
       "      <td>4</td>\n",
       "      <td>0</td>\n",
       "      <td>1</td>\n",
       "    </tr>\n",
       "    <tr>\n",
       "      <th>2</th>\n",
       "      <td>Pat Connaughton</td>\n",
       "      <td>77</td>\n",
       "      <td>29.50</td>\n",
       "      <td>28.80</td>\n",
       "      <td>12.10</td>\n",
       "      <td>4.60</td>\n",
       "      <td>1.30</td>\n",
       "      <td>1.00</td>\n",
       "      <td>0.40</td>\n",
       "      <td>0.80</td>\n",
       "      <td>...</td>\n",
       "      <td>0.00</td>\n",
       "      <td>0.00</td>\n",
       "      <td>0.00</td>\n",
       "      <td>0.00</td>\n",
       "      <td>0.00</td>\n",
       "      <td>0</td>\n",
       "      <td>1</td>\n",
       "      <td>4</td>\n",
       "      <td>0</td>\n",
       "      <td>1</td>\n",
       "    </tr>\n",
       "    <tr>\n",
       "      <th>3</th>\n",
       "      <td>Bryn Forbes</td>\n",
       "      <td>74</td>\n",
       "      <td>29.00</td>\n",
       "      <td>14.30</td>\n",
       "      <td>7.20</td>\n",
       "      <td>1.20</td>\n",
       "      <td>0.70</td>\n",
       "      <td>0.40</td>\n",
       "      <td>0.00</td>\n",
       "      <td>0.90</td>\n",
       "      <td>...</td>\n",
       "      <td>0.00</td>\n",
       "      <td>0.00</td>\n",
       "      <td>0.00</td>\n",
       "      <td>0.00</td>\n",
       "      <td>0.00</td>\n",
       "      <td>0</td>\n",
       "      <td>1</td>\n",
       "      <td>2</td>\n",
       "      <td>1</td>\n",
       "      <td>0</td>\n",
       "    </tr>\n",
       "    <tr>\n",
       "      <th>4</th>\n",
       "      <td>Trey Burke</td>\n",
       "      <td>72</td>\n",
       "      <td>29.50</td>\n",
       "      <td>11.30</td>\n",
       "      <td>6.40</td>\n",
       "      <td>0.70</td>\n",
       "      <td>1.60</td>\n",
       "      <td>0.40</td>\n",
       "      <td>0.00</td>\n",
       "      <td>0.90</td>\n",
       "      <td>...</td>\n",
       "      <td>0.00</td>\n",
       "      <td>0.00</td>\n",
       "      <td>0.00</td>\n",
       "      <td>0.00</td>\n",
       "      <td>0.00</td>\n",
       "      <td>0</td>\n",
       "      <td>0</td>\n",
       "      <td>0</td>\n",
       "      <td>0</td>\n",
       "      <td>0</td>\n",
       "    </tr>\n",
       "  </tbody>\n",
       "</table>\n",
       "<p>5 rows × 42 columns</p>\n",
       "</div>"
      ],
      "text/plain": [
       "              name height   age   min   pts  rbs  ast  stl  blk  tov  ...  \\\n",
       "0  Montrez Harrell     79 28.50 26.10 14.90 7.90 2.10 0.60 0.70 1.30  ...   \n",
       "1   Dennis Schoder     75 28.80 33.40 17.50 3.60 4.90 0.90 0.00 2.60  ...   \n",
       "2  Pat Connaughton     77 29.50 28.80 12.10 4.60 1.30 1.00 0.40 0.80  ...   \n",
       "3      Bryn Forbes     74 29.00 14.30  7.20 1.20 0.70 0.40 0.00 0.90  ...   \n",
       "4       Trey Burke     72 29.50 11.30  6.40 0.70 1.60 0.40 0.00 0.90  ...   \n",
       "\n",
       "   tall:blk  tall:efg_per  tall:ast  tall:stl  tall:three_fg  RFA  chg_team  \\\n",
       "0      0.00          0.00      0.00      0.00           0.00    0         1   \n",
       "1      0.00          0.00      0.00      0.00           0.00    0         1   \n",
       "2      0.00          0.00      0.00      0.00           0.00    0         1   \n",
       "3      0.00          0.00      0.00      0.00           0.00    0         1   \n",
       "4      0.00          0.00      0.00      0.00           0.00    0         0   \n",
       "\n",
       "   length  two_three_yr  four_five_yr  \n",
       "0       3             1             0  \n",
       "1       4             0             1  \n",
       "2       4             0             1  \n",
       "3       2             1             0  \n",
       "4       0             0             0  \n",
       "\n",
       "[5 rows x 42 columns]"
      ]
     },
     "execution_count": 53,
     "metadata": {},
     "output_type": "execute_result"
    }
   ],
   "source": [
    "free_agents"
   ]
  },
  {
   "cell_type": "markdown",
   "id": "4d641141",
   "metadata": {},
   "source": [
    "Now, I will create the necessary features for Burke. First I will get the squared features."
   ]
  },
  {
   "cell_type": "code",
   "execution_count": 54,
   "id": "6e6d98da",
   "metadata": {},
   "outputs": [],
   "source": [
    "free_agents.at[4,'pts_sq'] = free_agents.at[4,'pts']**2\n",
    "free_agents.at[4,'min_sq'] = free_agents.at[4,'min']**2\n",
    "free_agents.at[4,'rbs_sq'] = free_agents.at[4,'rbs']**2\n",
    "free_agents.at[4,'ast_sq'] = free_agents.at[4,'ast']**2\n",
    "free_agents.at[4,'stl_sq'] = free_agents.at[4,'stl']**2\n",
    "free_agents.at[4,'blk_sq'] = free_agents.at[4,'blk']**2\n",
    "free_agents.at[4,'tov_sq'] = free_agents.at[4,'tov']**2\n",
    "free_agents.at[4,'three_fg_sq'] = free_agents.at[4,'three_fg']**2"
   ]
  },
  {
   "cell_type": "markdown",
   "id": "6badb1b8",
   "metadata": {},
   "source": [
    "Next, I will decide which height group Burke falls into and compute the various interaction terms."
   ]
  },
  {
   "cell_type": "code",
   "execution_count": 55,
   "id": "f63e4a9b",
   "metadata": {},
   "outputs": [],
   "source": [
    "if free_agents.at[4,'height']<=76:\n",
    "    free_agents.at[4,'short']=1\n",
    "    free_agents.at[4,'medium']=0\n",
    "    free_agents.at[4,'tall']=0\n",
    "elif free_agents.at[4,'height']<=81:\n",
    "    free_agents.at[4,'short']=0\n",
    "    free_agents.at[4,'medium']=1\n",
    "    free_agents.at[4,'tall']=0\n",
    "else:\n",
    "    free_agents.at[4,'short']=0\n",
    "    free_agents.at[4,'medium']=0\n",
    "    free_agents.at[4,'tall']=1"
   ]
  },
  {
   "cell_type": "code",
   "execution_count": 56,
   "id": "ae020cca",
   "metadata": {},
   "outputs": [],
   "source": [
    "free_agents.at[4,'short:pts'] = free_agents.at[4,'short'] * free_agents.at[4,'pts']\n",
    "free_agents.at[4,'short:rbs'] = free_agents.at[4,'short'] * free_agents.at[4,'rbs']\n",
    "free_agents.at[4,'short:blk'] = free_agents.at[4,'short'] * free_agents.at[4,'blk']\n",
    "free_agents.at[4,'short:efg_per'] = free_agents.at[4,'short'] * free_agents.at[4,'efg_per']\n",
    "free_agents.at[4,'short:ast'] = free_agents.at[4,'short'] * free_agents.at[4,'ast']\n",
    "free_agents.at[4,'short:stl'] = free_agents.at[4,'short'] * free_agents.at[4,'stl']\n",
    "free_agents.at[4,'short:three_fg'] = free_agents.at[4,'short'] * free_agents.at[4,'three_fg']\n",
    "\n",
    "free_agents.at[4,'tall:pts'] = free_agents.at[4,'tall'] * free_agents.at[4,'pts']\n",
    "free_agents.at[4,'tall:rbs'] = free_agents.at[4,'tall'] * free_agents.at[4,'rbs']\n",
    "free_agents.at[4,'tall:blk'] = free_agents.at[4,'tall'] * free_agents.at[4,'blk']\n",
    "free_agents.at[4,'tall:efg_per'] = free_agents.at[4,'tall'] * free_agents.at[4,'efg_per']\n",
    "free_agents.at[4,'tall:ast'] = free_agents.at[4,'tall'] * free_agents.at[4,'ast']\n",
    "free_agents.at[4,'tall:stl'] = free_agents.at[4,'tall'] * free_agents.at[4,'stl']\n",
    "free_agents.at[4,'tall:three_fg'] = free_agents.at[4,'tall'] * free_agents.at[4,'three_fg']"
   ]
  },
  {
   "cell_type": "markdown",
   "id": "5888dfd8",
   "metadata": {},
   "source": [
    "Next, I will set `RFA` and `chg_team`."
   ]
  },
  {
   "cell_type": "code",
   "execution_count": 57,
   "id": "6fe3d3d0",
   "metadata": {},
   "outputs": [],
   "source": [
    "free_agents.at[4,'RFA'] = 0\n",
    "free_agents.at[4,'chg_team'] = 1"
   ]
  },
  {
   "cell_type": "markdown",
   "id": "4b5e323d",
   "metadata": {},
   "source": [
    "Lastly, I will define the length and length binary features for Burke."
   ]
  },
  {
   "cell_type": "code",
   "execution_count": 58,
   "id": "4839e4be",
   "metadata": {},
   "outputs": [],
   "source": [
    "free_agents.at[4,'length'] = 1\n",
    "free_agents.at[4,'two_three_yr'] = 0\n",
    "free_agents.at[4,'four_five_yr'] = 0"
   ]
  },
  {
   "cell_type": "code",
   "execution_count": 59,
   "id": "93452b94",
   "metadata": {},
   "outputs": [
    {
     "data": {
      "text/html": [
       "<div>\n",
       "<style scoped>\n",
       "    .dataframe tbody tr th:only-of-type {\n",
       "        vertical-align: middle;\n",
       "    }\n",
       "\n",
       "    .dataframe tbody tr th {\n",
       "        vertical-align: top;\n",
       "    }\n",
       "\n",
       "    .dataframe thead th {\n",
       "        text-align: right;\n",
       "    }\n",
       "</style>\n",
       "<table border=\"1\" class=\"dataframe\">\n",
       "  <thead>\n",
       "    <tr style=\"text-align: right;\">\n",
       "      <th></th>\n",
       "      <th>name</th>\n",
       "      <th>height</th>\n",
       "      <th>age</th>\n",
       "      <th>min</th>\n",
       "      <th>pts</th>\n",
       "      <th>rbs</th>\n",
       "      <th>ast</th>\n",
       "      <th>stl</th>\n",
       "      <th>blk</th>\n",
       "      <th>tov</th>\n",
       "      <th>...</th>\n",
       "      <th>tall:blk</th>\n",
       "      <th>tall:efg_per</th>\n",
       "      <th>tall:ast</th>\n",
       "      <th>tall:stl</th>\n",
       "      <th>tall:three_fg</th>\n",
       "      <th>RFA</th>\n",
       "      <th>chg_team</th>\n",
       "      <th>length</th>\n",
       "      <th>two_three_yr</th>\n",
       "      <th>four_five_yr</th>\n",
       "    </tr>\n",
       "  </thead>\n",
       "  <tbody>\n",
       "    <tr>\n",
       "      <th>0</th>\n",
       "      <td>Montrez Harrell</td>\n",
       "      <td>79</td>\n",
       "      <td>28.50</td>\n",
       "      <td>26.10</td>\n",
       "      <td>14.90</td>\n",
       "      <td>7.90</td>\n",
       "      <td>2.10</td>\n",
       "      <td>0.60</td>\n",
       "      <td>0.70</td>\n",
       "      <td>1.30</td>\n",
       "      <td>...</td>\n",
       "      <td>0.00</td>\n",
       "      <td>0.00</td>\n",
       "      <td>0.00</td>\n",
       "      <td>0.00</td>\n",
       "      <td>0.00</td>\n",
       "      <td>0</td>\n",
       "      <td>1</td>\n",
       "      <td>3</td>\n",
       "      <td>1</td>\n",
       "      <td>0</td>\n",
       "    </tr>\n",
       "    <tr>\n",
       "      <th>1</th>\n",
       "      <td>Dennis Schoder</td>\n",
       "      <td>75</td>\n",
       "      <td>28.80</td>\n",
       "      <td>33.40</td>\n",
       "      <td>17.50</td>\n",
       "      <td>3.60</td>\n",
       "      <td>4.90</td>\n",
       "      <td>0.90</td>\n",
       "      <td>0.00</td>\n",
       "      <td>2.60</td>\n",
       "      <td>...</td>\n",
       "      <td>0.00</td>\n",
       "      <td>0.00</td>\n",
       "      <td>0.00</td>\n",
       "      <td>0.00</td>\n",
       "      <td>0.00</td>\n",
       "      <td>0</td>\n",
       "      <td>1</td>\n",
       "      <td>4</td>\n",
       "      <td>0</td>\n",
       "      <td>1</td>\n",
       "    </tr>\n",
       "    <tr>\n",
       "      <th>2</th>\n",
       "      <td>Pat Connaughton</td>\n",
       "      <td>77</td>\n",
       "      <td>29.50</td>\n",
       "      <td>28.80</td>\n",
       "      <td>12.10</td>\n",
       "      <td>4.60</td>\n",
       "      <td>1.30</td>\n",
       "      <td>1.00</td>\n",
       "      <td>0.40</td>\n",
       "      <td>0.80</td>\n",
       "      <td>...</td>\n",
       "      <td>0.00</td>\n",
       "      <td>0.00</td>\n",
       "      <td>0.00</td>\n",
       "      <td>0.00</td>\n",
       "      <td>0.00</td>\n",
       "      <td>0</td>\n",
       "      <td>1</td>\n",
       "      <td>4</td>\n",
       "      <td>0</td>\n",
       "      <td>1</td>\n",
       "    </tr>\n",
       "    <tr>\n",
       "      <th>3</th>\n",
       "      <td>Bryn Forbes</td>\n",
       "      <td>74</td>\n",
       "      <td>29.00</td>\n",
       "      <td>14.30</td>\n",
       "      <td>7.20</td>\n",
       "      <td>1.20</td>\n",
       "      <td>0.70</td>\n",
       "      <td>0.40</td>\n",
       "      <td>0.00</td>\n",
       "      <td>0.90</td>\n",
       "      <td>...</td>\n",
       "      <td>0.00</td>\n",
       "      <td>0.00</td>\n",
       "      <td>0.00</td>\n",
       "      <td>0.00</td>\n",
       "      <td>0.00</td>\n",
       "      <td>0</td>\n",
       "      <td>1</td>\n",
       "      <td>2</td>\n",
       "      <td>1</td>\n",
       "      <td>0</td>\n",
       "    </tr>\n",
       "    <tr>\n",
       "      <th>4</th>\n",
       "      <td>Trey Burke</td>\n",
       "      <td>72</td>\n",
       "      <td>29.50</td>\n",
       "      <td>11.30</td>\n",
       "      <td>6.40</td>\n",
       "      <td>0.70</td>\n",
       "      <td>1.60</td>\n",
       "      <td>0.40</td>\n",
       "      <td>0.00</td>\n",
       "      <td>0.90</td>\n",
       "      <td>...</td>\n",
       "      <td>0.00</td>\n",
       "      <td>0.00</td>\n",
       "      <td>0.00</td>\n",
       "      <td>0.00</td>\n",
       "      <td>0.00</td>\n",
       "      <td>0</td>\n",
       "      <td>1</td>\n",
       "      <td>1</td>\n",
       "      <td>0</td>\n",
       "      <td>0</td>\n",
       "    </tr>\n",
       "  </tbody>\n",
       "</table>\n",
       "<p>5 rows × 42 columns</p>\n",
       "</div>"
      ],
      "text/plain": [
       "              name height   age   min   pts  rbs  ast  stl  blk  tov  ...  \\\n",
       "0  Montrez Harrell     79 28.50 26.10 14.90 7.90 2.10 0.60 0.70 1.30  ...   \n",
       "1   Dennis Schoder     75 28.80 33.40 17.50 3.60 4.90 0.90 0.00 2.60  ...   \n",
       "2  Pat Connaughton     77 29.50 28.80 12.10 4.60 1.30 1.00 0.40 0.80  ...   \n",
       "3      Bryn Forbes     74 29.00 14.30  7.20 1.20 0.70 0.40 0.00 0.90  ...   \n",
       "4       Trey Burke     72 29.50 11.30  6.40 0.70 1.60 0.40 0.00 0.90  ...   \n",
       "\n",
       "   tall:blk  tall:efg_per  tall:ast  tall:stl  tall:three_fg  RFA  chg_team  \\\n",
       "0      0.00          0.00      0.00      0.00           0.00    0         1   \n",
       "1      0.00          0.00      0.00      0.00           0.00    0         1   \n",
       "2      0.00          0.00      0.00      0.00           0.00    0         1   \n",
       "3      0.00          0.00      0.00      0.00           0.00    0         1   \n",
       "4      0.00          0.00      0.00      0.00           0.00    0         1   \n",
       "\n",
       "   length  two_three_yr  four_five_yr  \n",
       "0       3             1             0  \n",
       "1       4             0             1  \n",
       "2       4             0             1  \n",
       "3       2             1             0  \n",
       "4       1             0             0  \n",
       "\n",
       "[5 rows x 42 columns]"
      ]
     },
     "execution_count": 59,
     "metadata": {},
     "output_type": "execute_result"
    }
   ],
   "source": [
    "free_agents.head()"
   ]
  },
  {
   "cell_type": "markdown",
   "id": "b6a3769d",
   "metadata": {},
   "source": [
    "Now, that Burke's feature values have been calculated, I will predict his upcoming salary using the model."
   ]
  },
  {
   "cell_type": "code",
   "execution_count": 60,
   "id": "025ff1e3",
   "metadata": {},
   "outputs": [],
   "source": [
    "t_burke = [x for x in free_agents.loc[4][X].values]"
   ]
  },
  {
   "cell_type": "code",
   "execution_count": 61,
   "id": "cb9a2761",
   "metadata": {
    "scrolled": true
   },
   "outputs": [
    {
     "data": {
      "text/plain": [
       "[array([627791.0703349])]"
      ]
     },
     "execution_count": 61,
     "metadata": {},
     "output_type": "execute_result"
    }
   ],
   "source": [
    "predict(result, [t_burke])"
   ]
  },
  {
   "cell_type": "markdown",
   "id": "69172b6c",
   "metadata": {},
   "source": [
    "The model predicts that Burke will only be offered a contract of 628000 dollar contract. This is a little off because of the NBA salary minimums. As someone who will have been in the league for 9 seasons at the start of next year, the minimum salary Burke can make is 2401537 dollars. However, the model does show that a player producing at Burke's level will likely not sign above this minimum.\n",
    "\n",
    "While the model had Connaughton's salary over 15 million dollars per season, I have found a couple cheaper options for the front office to consider in Bryn Forbes and Trey Burke."
   ]
  },
  {
   "cell_type": "code",
   "execution_count": 62,
   "id": "3a37e9f7",
   "metadata": {},
   "outputs": [],
   "source": [
    "con.close()"
   ]
  }
 ],
 "metadata": {
  "kernelspec": {
   "display_name": "Python (en685648)",
   "language": "python",
   "name": "en685648"
  },
  "language_info": {
   "codemirror_mode": {
    "name": "ipython",
    "version": 3
   },
   "file_extension": ".py",
   "mimetype": "text/x-python",
   "name": "python",
   "nbconvert_exporter": "python",
   "pygments_lexer": "ipython3",
   "version": "3.8.10"
  }
 },
 "nbformat": 4,
 "nbformat_minor": 5
}
